{
  "nbformat": 4,
  "nbformat_minor": 0,
  "metadata": {
    "colab": {
      "provenance": [],
      "collapsed_sections": [
        "GXI9kFSGNAGb",
        "kCJJVZMxNiGH",
        "ddvFOL3KN6E6",
        "sGIIAmQBPK7i"
      ]
    },
    "kernelspec": {
      "name": "python3",
      "display_name": "Python 3"
    },
    "language_info": {
      "name": "python"
    }
  },
  "cells": [
    {
      "cell_type": "markdown",
      "source": [
        "### **Data Reading and Preparing**"
      ],
      "metadata": {
        "id": "GXI9kFSGNAGb"
      }
    },
    {
      "cell_type": "code",
      "execution_count": null,
      "metadata": {
        "id": "oKJCyYPjYE0k"
      },
      "outputs": [],
      "source": [
        "import pandas as pd\n",
        "import numpy as np\n",
        "import matplotlib.pyplot as plt\n",
        "from pandas.plotting import boxplot\n",
        "from sklearn.model_selection import train_test_split\n",
        "from sklearn.metrics import accuracy_score, precision_score, recall_score, f1_score\n",
        "from sklearn.neighbors import KNeighborsClassifier\n",
        "from sklearn.tree import DecisionTreeClassifier\n",
        "from sklearn.naive_bayes import GaussianNB"
      ]
    },
    {
      "cell_type": "code",
      "source": [
        "from google.colab import drive\n",
        "drive.mount('/content/drive')"
      ],
      "metadata": {
        "colab": {
          "base_uri": "https://localhost:8080/"
        },
        "id": "qWRmyI3GYIxD",
        "outputId": "96fea153-110a-4cd4-f326-c52e847186d9"
      },
      "execution_count": null,
      "outputs": [
        {
          "output_type": "stream",
          "name": "stdout",
          "text": [
            "Drive already mounted at /content/drive; to attempt to forcibly remount, call drive.mount(\"/content/drive\", force_remount=True).\n"
          ]
        }
      ]
    },
    {
      "cell_type": "code",
      "source": [
        "df = pd.read_csv('/content/drive/MyDrive/Complaints.csv')\n",
        "df.head(3)"
      ],
      "metadata": {
        "colab": {
          "base_uri": "https://localhost:8080/"
        },
        "id": "J8ZUZLzwYL35",
        "outputId": "b2157d74-0f0e-4179-ec1e-3f60967b9355"
      },
      "execution_count": null,
      "outputs": [
        {
          "output_type": "execute_result",
          "data": {
            "text/plain": [
              "              CASE_ID      OFFER_NAME CUSTOMER_TYPE    CUSTOMER_GROUP  \\\n",
              "0  CAS-1060890-L3D6Q6       FTTH Home           CBU         FTTH Home   \n",
              "1   CAS-388567-W4B9Q3             NaN           CBU               NaN   \n",
              "2  CAS-1494939-L9F0X7  Bitstream Home           CBU  Wanadoo-ADSL-Res   \n",
              "\n",
              "  CURRENT_STATUS ESCALATION_FLAG ESCALATED_GROUP         OPEN_DATE  \\\n",
              "0       Resolved             Yes          F&I_BO  19.06.2022 06:07   \n",
              "1       Resolved             Yes       Mobile_BO  04.04.2022 14:11   \n",
              "2       Resolved              No             NaN  03.08.2022 03:20   \n",
              "\n",
              "     OPEN_USER        CLOSE_DATE  ... AGE_BRACKET      ACTUAL_COMPLAINT  \\\n",
              "0         DANA  21.06.2022 13:41  ...         2.0      Actual Complaint   \n",
              "1  TCRMService  05.04.2022 12:13  ...         1.0  Not Actual Complaint   \n",
              "2       MOUTAZ  03.08.2022 03:20  ...         1.0       User Not Filled   \n",
              "\n",
              "   CALLBACK_MECHANISM RESOLUTION RESOLUTION_DESCRIPTION CASE_DESC  \\\n",
              "0               Phone        NaN                    NaN       NaN   \n",
              "1               Phone        NaN                    NaN       NaN   \n",
              "2                 NaN        NaN                    NaN       NaN   \n",
              "\n",
              "                     OPEN_GR COMPLAINT_TYPE   PRODUCT                 CASE  \n",
              "0  CBU / EBU - personal view      Technical  Internet  Technical complaint  \n",
              "1       System Administrator     Commercial    Mobile     Commercial claim  \n",
              "2      CBU - CC 1st Layer A       Technical  Internet  Technical complaint  \n",
              "\n",
              "[3 rows x 22 columns]"
            ],
            "text/html": [
              "\n",
              "  <div id=\"df-1daa4736-43fa-4919-9185-62204715d800\">\n",
              "    <div class=\"colab-df-container\">\n",
              "      <div>\n",
              "<style scoped>\n",
              "    .dataframe tbody tr th:only-of-type {\n",
              "        vertical-align: middle;\n",
              "    }\n",
              "\n",
              "    .dataframe tbody tr th {\n",
              "        vertical-align: top;\n",
              "    }\n",
              "\n",
              "    .dataframe thead th {\n",
              "        text-align: right;\n",
              "    }\n",
              "</style>\n",
              "<table border=\"1\" class=\"dataframe\">\n",
              "  <thead>\n",
              "    <tr style=\"text-align: right;\">\n",
              "      <th></th>\n",
              "      <th>CASE_ID</th>\n",
              "      <th>OFFER_NAME</th>\n",
              "      <th>CUSTOMER_TYPE</th>\n",
              "      <th>CUSTOMER_GROUP</th>\n",
              "      <th>CURRENT_STATUS</th>\n",
              "      <th>ESCALATION_FLAG</th>\n",
              "      <th>ESCALATED_GROUP</th>\n",
              "      <th>OPEN_DATE</th>\n",
              "      <th>OPEN_USER</th>\n",
              "      <th>CLOSE_DATE</th>\n",
              "      <th>...</th>\n",
              "      <th>AGE_BRACKET</th>\n",
              "      <th>ACTUAL_COMPLAINT</th>\n",
              "      <th>CALLBACK_MECHANISM</th>\n",
              "      <th>RESOLUTION</th>\n",
              "      <th>RESOLUTION_DESCRIPTION</th>\n",
              "      <th>CASE_DESC</th>\n",
              "      <th>OPEN_GR</th>\n",
              "      <th>COMPLAINT_TYPE</th>\n",
              "      <th>PRODUCT</th>\n",
              "      <th>CASE</th>\n",
              "    </tr>\n",
              "  </thead>\n",
              "  <tbody>\n",
              "    <tr>\n",
              "      <th>0</th>\n",
              "      <td>CAS-1060890-L3D6Q6</td>\n",
              "      <td>FTTH Home</td>\n",
              "      <td>CBU</td>\n",
              "      <td>FTTH Home</td>\n",
              "      <td>Resolved</td>\n",
              "      <td>Yes</td>\n",
              "      <td>F&amp;I_BO</td>\n",
              "      <td>19.06.2022 06:07</td>\n",
              "      <td>DANA</td>\n",
              "      <td>21.06.2022 13:41</td>\n",
              "      <td>...</td>\n",
              "      <td>2.0</td>\n",
              "      <td>Actual Complaint</td>\n",
              "      <td>Phone</td>\n",
              "      <td>NaN</td>\n",
              "      <td>NaN</td>\n",
              "      <td>NaN</td>\n",
              "      <td>CBU / EBU - personal view</td>\n",
              "      <td>Technical</td>\n",
              "      <td>Internet</td>\n",
              "      <td>Technical complaint</td>\n",
              "    </tr>\n",
              "    <tr>\n",
              "      <th>1</th>\n",
              "      <td>CAS-388567-W4B9Q3</td>\n",
              "      <td>NaN</td>\n",
              "      <td>CBU</td>\n",
              "      <td>NaN</td>\n",
              "      <td>Resolved</td>\n",
              "      <td>Yes</td>\n",
              "      <td>Mobile_BO</td>\n",
              "      <td>04.04.2022 14:11</td>\n",
              "      <td>TCRMService</td>\n",
              "      <td>05.04.2022 12:13</td>\n",
              "      <td>...</td>\n",
              "      <td>1.0</td>\n",
              "      <td>Not Actual Complaint</td>\n",
              "      <td>Phone</td>\n",
              "      <td>NaN</td>\n",
              "      <td>NaN</td>\n",
              "      <td>NaN</td>\n",
              "      <td>System Administrator</td>\n",
              "      <td>Commercial</td>\n",
              "      <td>Mobile</td>\n",
              "      <td>Commercial claim</td>\n",
              "    </tr>\n",
              "    <tr>\n",
              "      <th>2</th>\n",
              "      <td>CAS-1494939-L9F0X7</td>\n",
              "      <td>Bitstream Home</td>\n",
              "      <td>CBU</td>\n",
              "      <td>Wanadoo-ADSL-Res</td>\n",
              "      <td>Resolved</td>\n",
              "      <td>No</td>\n",
              "      <td>NaN</td>\n",
              "      <td>03.08.2022 03:20</td>\n",
              "      <td>MOUTAZ</td>\n",
              "      <td>03.08.2022 03:20</td>\n",
              "      <td>...</td>\n",
              "      <td>1.0</td>\n",
              "      <td>User Not Filled</td>\n",
              "      <td>NaN</td>\n",
              "      <td>NaN</td>\n",
              "      <td>NaN</td>\n",
              "      <td>NaN</td>\n",
              "      <td>CBU - CC 1st Layer A</td>\n",
              "      <td>Technical</td>\n",
              "      <td>Internet</td>\n",
              "      <td>Technical complaint</td>\n",
              "    </tr>\n",
              "  </tbody>\n",
              "</table>\n",
              "<p>3 rows × 22 columns</p>\n",
              "</div>\n",
              "      <button class=\"colab-df-convert\" onclick=\"convertToInteractive('df-1daa4736-43fa-4919-9185-62204715d800')\"\n",
              "              title=\"Convert this dataframe to an interactive table.\"\n",
              "              style=\"display:none;\">\n",
              "        \n",
              "  <svg xmlns=\"http://www.w3.org/2000/svg\" height=\"24px\"viewBox=\"0 0 24 24\"\n",
              "       width=\"24px\">\n",
              "    <path d=\"M0 0h24v24H0V0z\" fill=\"none\"/>\n",
              "    <path d=\"M18.56 5.44l.94 2.06.94-2.06 2.06-.94-2.06-.94-.94-2.06-.94 2.06-2.06.94zm-11 1L8.5 8.5l.94-2.06 2.06-.94-2.06-.94L8.5 2.5l-.94 2.06-2.06.94zm10 10l.94 2.06.94-2.06 2.06-.94-2.06-.94-.94-2.06-.94 2.06-2.06.94z\"/><path d=\"M17.41 7.96l-1.37-1.37c-.4-.4-.92-.59-1.43-.59-.52 0-1.04.2-1.43.59L10.3 9.45l-7.72 7.72c-.78.78-.78 2.05 0 2.83L4 21.41c.39.39.9.59 1.41.59.51 0 1.02-.2 1.41-.59l7.78-7.78 2.81-2.81c.8-.78.8-2.07 0-2.86zM5.41 20L4 18.59l7.72-7.72 1.47 1.35L5.41 20z\"/>\n",
              "  </svg>\n",
              "      </button>\n",
              "      \n",
              "  <style>\n",
              "    .colab-df-container {\n",
              "      display:flex;\n",
              "      flex-wrap:wrap;\n",
              "      gap: 12px;\n",
              "    }\n",
              "\n",
              "    .colab-df-convert {\n",
              "      background-color: #E8F0FE;\n",
              "      border: none;\n",
              "      border-radius: 50%;\n",
              "      cursor: pointer;\n",
              "      display: none;\n",
              "      fill: #1967D2;\n",
              "      height: 32px;\n",
              "      padding: 0 0 0 0;\n",
              "      width: 32px;\n",
              "    }\n",
              "\n",
              "    .colab-df-convert:hover {\n",
              "      background-color: #E2EBFA;\n",
              "      box-shadow: 0px 1px 2px rgba(60, 64, 67, 0.3), 0px 1px 3px 1px rgba(60, 64, 67, 0.15);\n",
              "      fill: #174EA6;\n",
              "    }\n",
              "\n",
              "    [theme=dark] .colab-df-convert {\n",
              "      background-color: #3B4455;\n",
              "      fill: #D2E3FC;\n",
              "    }\n",
              "\n",
              "    [theme=dark] .colab-df-convert:hover {\n",
              "      background-color: #434B5C;\n",
              "      box-shadow: 0px 1px 3px 1px rgba(0, 0, 0, 0.15);\n",
              "      filter: drop-shadow(0px 1px 2px rgba(0, 0, 0, 0.3));\n",
              "      fill: #FFFFFF;\n",
              "    }\n",
              "  </style>\n",
              "\n",
              "      <script>\n",
              "        const buttonEl =\n",
              "          document.querySelector('#df-1daa4736-43fa-4919-9185-62204715d800 button.colab-df-convert');\n",
              "        buttonEl.style.display =\n",
              "          google.colab.kernel.accessAllowed ? 'block' : 'none';\n",
              "\n",
              "        async function convertToInteractive(key) {\n",
              "          const element = document.querySelector('#df-1daa4736-43fa-4919-9185-62204715d800');\n",
              "          const dataTable =\n",
              "            await google.colab.kernel.invokeFunction('convertToInteractive',\n",
              "                                                     [key], {});\n",
              "          if (!dataTable) return;\n",
              "\n",
              "          const docLinkHtml = 'Like what you see? Visit the ' +\n",
              "            '<a target=\"_blank\" href=https://colab.research.google.com/notebooks/data_table.ipynb>data table notebook</a>'\n",
              "            + ' to learn more about interactive tables.';\n",
              "          element.innerHTML = '';\n",
              "          dataTable['output_type'] = 'display_data';\n",
              "          await google.colab.output.renderOutput(dataTable, element);\n",
              "          const docLink = document.createElement('div');\n",
              "          docLink.innerHTML = docLinkHtml;\n",
              "          element.appendChild(docLink);\n",
              "        }\n",
              "      </script>\n",
              "    </div>\n",
              "  </div>\n",
              "  "
            ]
          },
          "metadata": {},
          "execution_count": 210
        }
      ]
    },
    {
      "cell_type": "code",
      "source": [
        "df.shape"
      ],
      "metadata": {
        "colab": {
          "base_uri": "https://localhost:8080/"
        },
        "id": "_Ce0GMJ_YbkB",
        "outputId": "f440d467-34a5-4706-fbd0-c58ca3d07ca5"
      },
      "execution_count": null,
      "outputs": [
        {
          "output_type": "execute_result",
          "data": {
            "text/plain": [
              "(10415, 22)"
            ]
          },
          "metadata": {},
          "execution_count": 211
        }
      ]
    },
    {
      "cell_type": "code",
      "source": [
        "#to view all the informations regarding each column like the data type of the column\n",
        "df.info()"
      ],
      "metadata": {
        "colab": {
          "base_uri": "https://localhost:8080/"
        },
        "id": "LrmuZABRN1O7",
        "outputId": "cc86986b-69f6-4192-eec6-7402c4b27b78"
      },
      "execution_count": null,
      "outputs": [
        {
          "output_type": "stream",
          "name": "stdout",
          "text": [
            "<class 'pandas.core.frame.DataFrame'>\n",
            "RangeIndex: 10415 entries, 0 to 10414\n",
            "Data columns (total 22 columns):\n",
            " #   Column                  Non-Null Count  Dtype  \n",
            "---  ------                  --------------  -----  \n",
            " 0   CASE_ID                 10415 non-null  object \n",
            " 1   OFFER_NAME              9122 non-null   object \n",
            " 2   CUSTOMER_TYPE           10415 non-null  object \n",
            " 3   CUSTOMER_GROUP          9067 non-null   object \n",
            " 4   CURRENT_STATUS          10415 non-null  object \n",
            " 5   ESCALATION_FLAG         10415 non-null  object \n",
            " 6   ESCALATED_GROUP         3360 non-null   object \n",
            " 7   OPEN_DATE               10415 non-null  object \n",
            " 8   OPEN_USER               10053 non-null  object \n",
            " 9   CLOSE_DATE              10296 non-null  object \n",
            " 10  CLOSE_GROUP             5525 non-null   object \n",
            " 11  CLOSE_USER              9899 non-null   object \n",
            " 12  AGE_BRACKET             10296 non-null  float64\n",
            " 13  ACTUAL_COMPLAINT        10415 non-null  object \n",
            " 14  CALLBACK_MECHANISM      3138 non-null   object \n",
            " 15  RESOLUTION              79 non-null     object \n",
            " 16  RESOLUTION_DESCRIPTION  39 non-null     object \n",
            " 17  CASE_DESC               1172 non-null   object \n",
            " 18  OPEN_GR                 5854 non-null   object \n",
            " 19  COMPLAINT_TYPE          10415 non-null  object \n",
            " 20  PRODUCT                 10415 non-null  object \n",
            " 21  CASE                    10415 non-null  object \n",
            "dtypes: float64(1), object(21)\n",
            "memory usage: 1.7+ MB\n"
          ]
        }
      ]
    },
    {
      "cell_type": "code",
      "source": [
        "df.isnull().sum()"
      ],
      "metadata": {
        "colab": {
          "base_uri": "https://localhost:8080/"
        },
        "id": "P0e75EdiYqBk",
        "outputId": "ad6f941d-0d80-463b-e632-26d15f376687"
      },
      "execution_count": null,
      "outputs": [
        {
          "output_type": "execute_result",
          "data": {
            "text/plain": [
              "CASE_ID                       0\n",
              "OFFER_NAME                 1293\n",
              "CUSTOMER_TYPE                 0\n",
              "CUSTOMER_GROUP             1348\n",
              "CURRENT_STATUS                0\n",
              "ESCALATION_FLAG               0\n",
              "ESCALATED_GROUP            7055\n",
              "OPEN_DATE                     0\n",
              "OPEN_USER                   362\n",
              "CLOSE_DATE                  119\n",
              "CLOSE_GROUP                4890\n",
              "CLOSE_USER                  516\n",
              "AGE_BRACKET                 119\n",
              "ACTUAL_COMPLAINT              0\n",
              "CALLBACK_MECHANISM         7277\n",
              "RESOLUTION                10336\n",
              "RESOLUTION_DESCRIPTION    10376\n",
              "CASE_DESC                  9243\n",
              "OPEN_GR                    4561\n",
              "COMPLAINT_TYPE                0\n",
              "PRODUCT                       0\n",
              "CASE                          0\n",
              "dtype: int64"
            ]
          },
          "metadata": {},
          "execution_count": 213
        }
      ]
    },
    {
      "cell_type": "markdown",
      "source": [
        "## **Drop Columns & Duplicates**"
      ],
      "metadata": {
        "id": "kCJJVZMxNiGH"
      }
    },
    {
      "cell_type": "code",
      "source": [
        "df=df.drop(columns=['RESOLUTION','RESOLUTION_DESCRIPTION','CASE_DESC','CASE_ID'],axis=1)\n",
        "df.head(3)"
      ],
      "metadata": {
        "colab": {
          "base_uri": "https://localhost:8080/"
        },
        "id": "neAVsRnDYzpx",
        "outputId": "82ed1d1a-4178-4696-86d0-82e945c3bfee"
      },
      "execution_count": null,
      "outputs": [
        {
          "output_type": "execute_result",
          "data": {
            "text/plain": [
              "       OFFER_NAME CUSTOMER_TYPE    CUSTOMER_GROUP CURRENT_STATUS  \\\n",
              "0       FTTH Home           CBU         FTTH Home       Resolved   \n",
              "1             NaN           CBU               NaN       Resolved   \n",
              "2  Bitstream Home           CBU  Wanadoo-ADSL-Res       Resolved   \n",
              "\n",
              "  ESCALATION_FLAG ESCALATED_GROUP         OPEN_DATE    OPEN_USER  \\\n",
              "0             Yes          F&I_BO  19.06.2022 06:07         DANA   \n",
              "1             Yes       Mobile_BO  04.04.2022 14:11  TCRMService   \n",
              "2              No             NaN  03.08.2022 03:20       MOUTAZ   \n",
              "\n",
              "         CLOSE_DATE          CLOSE_GROUP CLOSE_USER  AGE_BRACKET  \\\n",
              "0  21.06.2022 13:41               F&I_BO       DANA          2.0   \n",
              "1  05.04.2022 12:13            Mobile_BO      ENNAS          1.0   \n",
              "2  03.08.2022 03:20  CYC_COMMERCAIL_TEAM     MOUTAZ          1.0   \n",
              "\n",
              "       ACTUAL_COMPLAINT CALLBACK_MECHANISM                    OPEN_GR  \\\n",
              "0      Actual Complaint              Phone  CBU / EBU - personal view   \n",
              "1  Not Actual Complaint              Phone       System Administrator   \n",
              "2       User Not Filled                NaN      CBU - CC 1st Layer A    \n",
              "\n",
              "  COMPLAINT_TYPE   PRODUCT                 CASE  \n",
              "0      Technical  Internet  Technical complaint  \n",
              "1     Commercial    Mobile     Commercial claim  \n",
              "2      Technical  Internet  Technical complaint  "
            ],
            "text/html": [
              "\n",
              "  <div id=\"df-654a0b44-dccd-49a0-90b4-5e8cc455829e\">\n",
              "    <div class=\"colab-df-container\">\n",
              "      <div>\n",
              "<style scoped>\n",
              "    .dataframe tbody tr th:only-of-type {\n",
              "        vertical-align: middle;\n",
              "    }\n",
              "\n",
              "    .dataframe tbody tr th {\n",
              "        vertical-align: top;\n",
              "    }\n",
              "\n",
              "    .dataframe thead th {\n",
              "        text-align: right;\n",
              "    }\n",
              "</style>\n",
              "<table border=\"1\" class=\"dataframe\">\n",
              "  <thead>\n",
              "    <tr style=\"text-align: right;\">\n",
              "      <th></th>\n",
              "      <th>OFFER_NAME</th>\n",
              "      <th>CUSTOMER_TYPE</th>\n",
              "      <th>CUSTOMER_GROUP</th>\n",
              "      <th>CURRENT_STATUS</th>\n",
              "      <th>ESCALATION_FLAG</th>\n",
              "      <th>ESCALATED_GROUP</th>\n",
              "      <th>OPEN_DATE</th>\n",
              "      <th>OPEN_USER</th>\n",
              "      <th>CLOSE_DATE</th>\n",
              "      <th>CLOSE_GROUP</th>\n",
              "      <th>CLOSE_USER</th>\n",
              "      <th>AGE_BRACKET</th>\n",
              "      <th>ACTUAL_COMPLAINT</th>\n",
              "      <th>CALLBACK_MECHANISM</th>\n",
              "      <th>OPEN_GR</th>\n",
              "      <th>COMPLAINT_TYPE</th>\n",
              "      <th>PRODUCT</th>\n",
              "      <th>CASE</th>\n",
              "    </tr>\n",
              "  </thead>\n",
              "  <tbody>\n",
              "    <tr>\n",
              "      <th>0</th>\n",
              "      <td>FTTH Home</td>\n",
              "      <td>CBU</td>\n",
              "      <td>FTTH Home</td>\n",
              "      <td>Resolved</td>\n",
              "      <td>Yes</td>\n",
              "      <td>F&amp;I_BO</td>\n",
              "      <td>19.06.2022 06:07</td>\n",
              "      <td>DANA</td>\n",
              "      <td>21.06.2022 13:41</td>\n",
              "      <td>F&amp;I_BO</td>\n",
              "      <td>DANA</td>\n",
              "      <td>2.0</td>\n",
              "      <td>Actual Complaint</td>\n",
              "      <td>Phone</td>\n",
              "      <td>CBU / EBU - personal view</td>\n",
              "      <td>Technical</td>\n",
              "      <td>Internet</td>\n",
              "      <td>Technical complaint</td>\n",
              "    </tr>\n",
              "    <tr>\n",
              "      <th>1</th>\n",
              "      <td>NaN</td>\n",
              "      <td>CBU</td>\n",
              "      <td>NaN</td>\n",
              "      <td>Resolved</td>\n",
              "      <td>Yes</td>\n",
              "      <td>Mobile_BO</td>\n",
              "      <td>04.04.2022 14:11</td>\n",
              "      <td>TCRMService</td>\n",
              "      <td>05.04.2022 12:13</td>\n",
              "      <td>Mobile_BO</td>\n",
              "      <td>ENNAS</td>\n",
              "      <td>1.0</td>\n",
              "      <td>Not Actual Complaint</td>\n",
              "      <td>Phone</td>\n",
              "      <td>System Administrator</td>\n",
              "      <td>Commercial</td>\n",
              "      <td>Mobile</td>\n",
              "      <td>Commercial claim</td>\n",
              "    </tr>\n",
              "    <tr>\n",
              "      <th>2</th>\n",
              "      <td>Bitstream Home</td>\n",
              "      <td>CBU</td>\n",
              "      <td>Wanadoo-ADSL-Res</td>\n",
              "      <td>Resolved</td>\n",
              "      <td>No</td>\n",
              "      <td>NaN</td>\n",
              "      <td>03.08.2022 03:20</td>\n",
              "      <td>MOUTAZ</td>\n",
              "      <td>03.08.2022 03:20</td>\n",
              "      <td>CYC_COMMERCAIL_TEAM</td>\n",
              "      <td>MOUTAZ</td>\n",
              "      <td>1.0</td>\n",
              "      <td>User Not Filled</td>\n",
              "      <td>NaN</td>\n",
              "      <td>CBU - CC 1st Layer A</td>\n",
              "      <td>Technical</td>\n",
              "      <td>Internet</td>\n",
              "      <td>Technical complaint</td>\n",
              "    </tr>\n",
              "  </tbody>\n",
              "</table>\n",
              "</div>\n",
              "      <button class=\"colab-df-convert\" onclick=\"convertToInteractive('df-654a0b44-dccd-49a0-90b4-5e8cc455829e')\"\n",
              "              title=\"Convert this dataframe to an interactive table.\"\n",
              "              style=\"display:none;\">\n",
              "        \n",
              "  <svg xmlns=\"http://www.w3.org/2000/svg\" height=\"24px\"viewBox=\"0 0 24 24\"\n",
              "       width=\"24px\">\n",
              "    <path d=\"M0 0h24v24H0V0z\" fill=\"none\"/>\n",
              "    <path d=\"M18.56 5.44l.94 2.06.94-2.06 2.06-.94-2.06-.94-.94-2.06-.94 2.06-2.06.94zm-11 1L8.5 8.5l.94-2.06 2.06-.94-2.06-.94L8.5 2.5l-.94 2.06-2.06.94zm10 10l.94 2.06.94-2.06 2.06-.94-2.06-.94-.94-2.06-.94 2.06-2.06.94z\"/><path d=\"M17.41 7.96l-1.37-1.37c-.4-.4-.92-.59-1.43-.59-.52 0-1.04.2-1.43.59L10.3 9.45l-7.72 7.72c-.78.78-.78 2.05 0 2.83L4 21.41c.39.39.9.59 1.41.59.51 0 1.02-.2 1.41-.59l7.78-7.78 2.81-2.81c.8-.78.8-2.07 0-2.86zM5.41 20L4 18.59l7.72-7.72 1.47 1.35L5.41 20z\"/>\n",
              "  </svg>\n",
              "      </button>\n",
              "      \n",
              "  <style>\n",
              "    .colab-df-container {\n",
              "      display:flex;\n",
              "      flex-wrap:wrap;\n",
              "      gap: 12px;\n",
              "    }\n",
              "\n",
              "    .colab-df-convert {\n",
              "      background-color: #E8F0FE;\n",
              "      border: none;\n",
              "      border-radius: 50%;\n",
              "      cursor: pointer;\n",
              "      display: none;\n",
              "      fill: #1967D2;\n",
              "      height: 32px;\n",
              "      padding: 0 0 0 0;\n",
              "      width: 32px;\n",
              "    }\n",
              "\n",
              "    .colab-df-convert:hover {\n",
              "      background-color: #E2EBFA;\n",
              "      box-shadow: 0px 1px 2px rgba(60, 64, 67, 0.3), 0px 1px 3px 1px rgba(60, 64, 67, 0.15);\n",
              "      fill: #174EA6;\n",
              "    }\n",
              "\n",
              "    [theme=dark] .colab-df-convert {\n",
              "      background-color: #3B4455;\n",
              "      fill: #D2E3FC;\n",
              "    }\n",
              "\n",
              "    [theme=dark] .colab-df-convert:hover {\n",
              "      background-color: #434B5C;\n",
              "      box-shadow: 0px 1px 3px 1px rgba(0, 0, 0, 0.15);\n",
              "      filter: drop-shadow(0px 1px 2px rgba(0, 0, 0, 0.3));\n",
              "      fill: #FFFFFF;\n",
              "    }\n",
              "  </style>\n",
              "\n",
              "      <script>\n",
              "        const buttonEl =\n",
              "          document.querySelector('#df-654a0b44-dccd-49a0-90b4-5e8cc455829e button.colab-df-convert');\n",
              "        buttonEl.style.display =\n",
              "          google.colab.kernel.accessAllowed ? 'block' : 'none';\n",
              "\n",
              "        async function convertToInteractive(key) {\n",
              "          const element = document.querySelector('#df-654a0b44-dccd-49a0-90b4-5e8cc455829e');\n",
              "          const dataTable =\n",
              "            await google.colab.kernel.invokeFunction('convertToInteractive',\n",
              "                                                     [key], {});\n",
              "          if (!dataTable) return;\n",
              "\n",
              "          const docLinkHtml = 'Like what you see? Visit the ' +\n",
              "            '<a target=\"_blank\" href=https://colab.research.google.com/notebooks/data_table.ipynb>data table notebook</a>'\n",
              "            + ' to learn more about interactive tables.';\n",
              "          element.innerHTML = '';\n",
              "          dataTable['output_type'] = 'display_data';\n",
              "          await google.colab.output.renderOutput(dataTable, element);\n",
              "          const docLink = document.createElement('div');\n",
              "          docLink.innerHTML = docLinkHtml;\n",
              "          element.appendChild(docLink);\n",
              "        }\n",
              "      </script>\n",
              "    </div>\n",
              "  </div>\n",
              "  "
            ]
          },
          "metadata": {},
          "execution_count": 214
        }
      ]
    },
    {
      "cell_type": "code",
      "source": [
        "df=df.drop_duplicates()\n",
        "df.head(3)"
      ],
      "metadata": {
        "colab": {
          "base_uri": "https://localhost:8080/"
        },
        "id": "wp87U2AQY3nU",
        "outputId": "e4db07e4-d454-44b2-ceab-dafd25db6538"
      },
      "execution_count": null,
      "outputs": [
        {
          "output_type": "execute_result",
          "data": {
            "text/plain": [
              "       OFFER_NAME CUSTOMER_TYPE    CUSTOMER_GROUP CURRENT_STATUS  \\\n",
              "0       FTTH Home           CBU         FTTH Home       Resolved   \n",
              "1             NaN           CBU               NaN       Resolved   \n",
              "2  Bitstream Home           CBU  Wanadoo-ADSL-Res       Resolved   \n",
              "\n",
              "  ESCALATION_FLAG ESCALATED_GROUP         OPEN_DATE    OPEN_USER  \\\n",
              "0             Yes          F&I_BO  19.06.2022 06:07         DANA   \n",
              "1             Yes       Mobile_BO  04.04.2022 14:11  TCRMService   \n",
              "2              No             NaN  03.08.2022 03:20       MOUTAZ   \n",
              "\n",
              "         CLOSE_DATE          CLOSE_GROUP CLOSE_USER  AGE_BRACKET  \\\n",
              "0  21.06.2022 13:41               F&I_BO       DANA          2.0   \n",
              "1  05.04.2022 12:13            Mobile_BO      ENNAS          1.0   \n",
              "2  03.08.2022 03:20  CYC_COMMERCAIL_TEAM     MOUTAZ          1.0   \n",
              "\n",
              "       ACTUAL_COMPLAINT CALLBACK_MECHANISM                    OPEN_GR  \\\n",
              "0      Actual Complaint              Phone  CBU / EBU - personal view   \n",
              "1  Not Actual Complaint              Phone       System Administrator   \n",
              "2       User Not Filled                NaN      CBU - CC 1st Layer A    \n",
              "\n",
              "  COMPLAINT_TYPE   PRODUCT                 CASE  \n",
              "0      Technical  Internet  Technical complaint  \n",
              "1     Commercial    Mobile     Commercial claim  \n",
              "2      Technical  Internet  Technical complaint  "
            ],
            "text/html": [
              "\n",
              "  <div id=\"df-ab50de6b-7cc5-4fc5-bf9f-bec840aff5d5\">\n",
              "    <div class=\"colab-df-container\">\n",
              "      <div>\n",
              "<style scoped>\n",
              "    .dataframe tbody tr th:only-of-type {\n",
              "        vertical-align: middle;\n",
              "    }\n",
              "\n",
              "    .dataframe tbody tr th {\n",
              "        vertical-align: top;\n",
              "    }\n",
              "\n",
              "    .dataframe thead th {\n",
              "        text-align: right;\n",
              "    }\n",
              "</style>\n",
              "<table border=\"1\" class=\"dataframe\">\n",
              "  <thead>\n",
              "    <tr style=\"text-align: right;\">\n",
              "      <th></th>\n",
              "      <th>OFFER_NAME</th>\n",
              "      <th>CUSTOMER_TYPE</th>\n",
              "      <th>CUSTOMER_GROUP</th>\n",
              "      <th>CURRENT_STATUS</th>\n",
              "      <th>ESCALATION_FLAG</th>\n",
              "      <th>ESCALATED_GROUP</th>\n",
              "      <th>OPEN_DATE</th>\n",
              "      <th>OPEN_USER</th>\n",
              "      <th>CLOSE_DATE</th>\n",
              "      <th>CLOSE_GROUP</th>\n",
              "      <th>CLOSE_USER</th>\n",
              "      <th>AGE_BRACKET</th>\n",
              "      <th>ACTUAL_COMPLAINT</th>\n",
              "      <th>CALLBACK_MECHANISM</th>\n",
              "      <th>OPEN_GR</th>\n",
              "      <th>COMPLAINT_TYPE</th>\n",
              "      <th>PRODUCT</th>\n",
              "      <th>CASE</th>\n",
              "    </tr>\n",
              "  </thead>\n",
              "  <tbody>\n",
              "    <tr>\n",
              "      <th>0</th>\n",
              "      <td>FTTH Home</td>\n",
              "      <td>CBU</td>\n",
              "      <td>FTTH Home</td>\n",
              "      <td>Resolved</td>\n",
              "      <td>Yes</td>\n",
              "      <td>F&amp;I_BO</td>\n",
              "      <td>19.06.2022 06:07</td>\n",
              "      <td>DANA</td>\n",
              "      <td>21.06.2022 13:41</td>\n",
              "      <td>F&amp;I_BO</td>\n",
              "      <td>DANA</td>\n",
              "      <td>2.0</td>\n",
              "      <td>Actual Complaint</td>\n",
              "      <td>Phone</td>\n",
              "      <td>CBU / EBU - personal view</td>\n",
              "      <td>Technical</td>\n",
              "      <td>Internet</td>\n",
              "      <td>Technical complaint</td>\n",
              "    </tr>\n",
              "    <tr>\n",
              "      <th>1</th>\n",
              "      <td>NaN</td>\n",
              "      <td>CBU</td>\n",
              "      <td>NaN</td>\n",
              "      <td>Resolved</td>\n",
              "      <td>Yes</td>\n",
              "      <td>Mobile_BO</td>\n",
              "      <td>04.04.2022 14:11</td>\n",
              "      <td>TCRMService</td>\n",
              "      <td>05.04.2022 12:13</td>\n",
              "      <td>Mobile_BO</td>\n",
              "      <td>ENNAS</td>\n",
              "      <td>1.0</td>\n",
              "      <td>Not Actual Complaint</td>\n",
              "      <td>Phone</td>\n",
              "      <td>System Administrator</td>\n",
              "      <td>Commercial</td>\n",
              "      <td>Mobile</td>\n",
              "      <td>Commercial claim</td>\n",
              "    </tr>\n",
              "    <tr>\n",
              "      <th>2</th>\n",
              "      <td>Bitstream Home</td>\n",
              "      <td>CBU</td>\n",
              "      <td>Wanadoo-ADSL-Res</td>\n",
              "      <td>Resolved</td>\n",
              "      <td>No</td>\n",
              "      <td>NaN</td>\n",
              "      <td>03.08.2022 03:20</td>\n",
              "      <td>MOUTAZ</td>\n",
              "      <td>03.08.2022 03:20</td>\n",
              "      <td>CYC_COMMERCAIL_TEAM</td>\n",
              "      <td>MOUTAZ</td>\n",
              "      <td>1.0</td>\n",
              "      <td>User Not Filled</td>\n",
              "      <td>NaN</td>\n",
              "      <td>CBU - CC 1st Layer A</td>\n",
              "      <td>Technical</td>\n",
              "      <td>Internet</td>\n",
              "      <td>Technical complaint</td>\n",
              "    </tr>\n",
              "  </tbody>\n",
              "</table>\n",
              "</div>\n",
              "      <button class=\"colab-df-convert\" onclick=\"convertToInteractive('df-ab50de6b-7cc5-4fc5-bf9f-bec840aff5d5')\"\n",
              "              title=\"Convert this dataframe to an interactive table.\"\n",
              "              style=\"display:none;\">\n",
              "        \n",
              "  <svg xmlns=\"http://www.w3.org/2000/svg\" height=\"24px\"viewBox=\"0 0 24 24\"\n",
              "       width=\"24px\">\n",
              "    <path d=\"M0 0h24v24H0V0z\" fill=\"none\"/>\n",
              "    <path d=\"M18.56 5.44l.94 2.06.94-2.06 2.06-.94-2.06-.94-.94-2.06-.94 2.06-2.06.94zm-11 1L8.5 8.5l.94-2.06 2.06-.94-2.06-.94L8.5 2.5l-.94 2.06-2.06.94zm10 10l.94 2.06.94-2.06 2.06-.94-2.06-.94-.94-2.06-.94 2.06-2.06.94z\"/><path d=\"M17.41 7.96l-1.37-1.37c-.4-.4-.92-.59-1.43-.59-.52 0-1.04.2-1.43.59L10.3 9.45l-7.72 7.72c-.78.78-.78 2.05 0 2.83L4 21.41c.39.39.9.59 1.41.59.51 0 1.02-.2 1.41-.59l7.78-7.78 2.81-2.81c.8-.78.8-2.07 0-2.86zM5.41 20L4 18.59l7.72-7.72 1.47 1.35L5.41 20z\"/>\n",
              "  </svg>\n",
              "      </button>\n",
              "      \n",
              "  <style>\n",
              "    .colab-df-container {\n",
              "      display:flex;\n",
              "      flex-wrap:wrap;\n",
              "      gap: 12px;\n",
              "    }\n",
              "\n",
              "    .colab-df-convert {\n",
              "      background-color: #E8F0FE;\n",
              "      border: none;\n",
              "      border-radius: 50%;\n",
              "      cursor: pointer;\n",
              "      display: none;\n",
              "      fill: #1967D2;\n",
              "      height: 32px;\n",
              "      padding: 0 0 0 0;\n",
              "      width: 32px;\n",
              "    }\n",
              "\n",
              "    .colab-df-convert:hover {\n",
              "      background-color: #E2EBFA;\n",
              "      box-shadow: 0px 1px 2px rgba(60, 64, 67, 0.3), 0px 1px 3px 1px rgba(60, 64, 67, 0.15);\n",
              "      fill: #174EA6;\n",
              "    }\n",
              "\n",
              "    [theme=dark] .colab-df-convert {\n",
              "      background-color: #3B4455;\n",
              "      fill: #D2E3FC;\n",
              "    }\n",
              "\n",
              "    [theme=dark] .colab-df-convert:hover {\n",
              "      background-color: #434B5C;\n",
              "      box-shadow: 0px 1px 3px 1px rgba(0, 0, 0, 0.15);\n",
              "      filter: drop-shadow(0px 1px 2px rgba(0, 0, 0, 0.3));\n",
              "      fill: #FFFFFF;\n",
              "    }\n",
              "  </style>\n",
              "\n",
              "      <script>\n",
              "        const buttonEl =\n",
              "          document.querySelector('#df-ab50de6b-7cc5-4fc5-bf9f-bec840aff5d5 button.colab-df-convert');\n",
              "        buttonEl.style.display =\n",
              "          google.colab.kernel.accessAllowed ? 'block' : 'none';\n",
              "\n",
              "        async function convertToInteractive(key) {\n",
              "          const element = document.querySelector('#df-ab50de6b-7cc5-4fc5-bf9f-bec840aff5d5');\n",
              "          const dataTable =\n",
              "            await google.colab.kernel.invokeFunction('convertToInteractive',\n",
              "                                                     [key], {});\n",
              "          if (!dataTable) return;\n",
              "\n",
              "          const docLinkHtml = 'Like what you see? Visit the ' +\n",
              "            '<a target=\"_blank\" href=https://colab.research.google.com/notebooks/data_table.ipynb>data table notebook</a>'\n",
              "            + ' to learn more about interactive tables.';\n",
              "          element.innerHTML = '';\n",
              "          dataTable['output_type'] = 'display_data';\n",
              "          await google.colab.output.renderOutput(dataTable, element);\n",
              "          const docLink = document.createElement('div');\n",
              "          docLink.innerHTML = docLinkHtml;\n",
              "          element.appendChild(docLink);\n",
              "        }\n",
              "      </script>\n",
              "    </div>\n",
              "  </div>\n",
              "  "
            ]
          },
          "metadata": {},
          "execution_count": 215
        }
      ]
    },
    {
      "cell_type": "code",
      "source": [
        "df.isnull().sum()"
      ],
      "metadata": {
        "colab": {
          "base_uri": "https://localhost:8080/"
        },
        "id": "fp5U6vw-Zlj-",
        "outputId": "254c73da-20ba-488d-b002-6fc64bacb317"
      },
      "execution_count": null,
      "outputs": [
        {
          "output_type": "execute_result",
          "data": {
            "text/plain": [
              "OFFER_NAME            1290\n",
              "CUSTOMER_TYPE            0\n",
              "CUSTOMER_GROUP        1345\n",
              "CURRENT_STATUS           0\n",
              "ESCALATION_FLAG          0\n",
              "ESCALATED_GROUP       7047\n",
              "OPEN_DATE                0\n",
              "OPEN_USER              362\n",
              "CLOSE_DATE             119\n",
              "CLOSE_GROUP           4887\n",
              "CLOSE_USER             516\n",
              "AGE_BRACKET            119\n",
              "ACTUAL_COMPLAINT         0\n",
              "CALLBACK_MECHANISM    7269\n",
              "OPEN_GR               4558\n",
              "COMPLAINT_TYPE           0\n",
              "PRODUCT                  0\n",
              "CASE                     0\n",
              "dtype: int64"
            ]
          },
          "metadata": {},
          "execution_count": 216
        }
      ]
    },
    {
      "cell_type": "markdown",
      "source": [
        "## **Data Cleaning & Processing**"
      ],
      "metadata": {
        "id": "ddvFOL3KN6E6"
      }
    },
    {
      "cell_type": "code",
      "source": [
        "#identify categorical variables of offer_name and the product\n",
        "cat_columns = ['PRODUCT','OFFER_NAME']\n",
        "cat_columns"
      ],
      "metadata": {
        "colab": {
          "base_uri": "https://localhost:8080/"
        },
        "id": "INhWigZsZ2o6",
        "outputId": "c7d94bbf-9666-45ef-d80d-279cfc9f3d96"
      },
      "execution_count": null,
      "outputs": [
        {
          "output_type": "execute_result",
          "data": {
            "text/plain": [
              "['PRODUCT', 'OFFER_NAME']"
            ]
          },
          "metadata": {},
          "execution_count": 217
        }
      ]
    },
    {
      "cell_type": "code",
      "source": [
        "#convert all categorical variables to numeric\n",
        "from sklearn.preprocessing import LabelEncoder\n",
        "label_encoder = LabelEncoder()\n",
        "df[cat_columns] = df[cat_columns].apply(LabelEncoder().fit_transform)\n",
        "df.head(3)"
      ],
      "metadata": {
        "colab": {
          "base_uri": "https://localhost:8080/"
        },
        "id": "_gXxCJbPZ5tJ",
        "outputId": "97ac67cb-c55e-4e8b-b9c8-2e0bd6f78aae"
      },
      "execution_count": null,
      "outputs": [
        {
          "output_type": "stream",
          "name": "stderr",
          "text": [
            "/usr/local/lib/python3.8/dist-packages/pandas/core/frame.py:3641: SettingWithCopyWarning: \n",
            "A value is trying to be set on a copy of a slice from a DataFrame.\n",
            "Try using .loc[row_indexer,col_indexer] = value instead\n",
            "\n",
            "See the caveats in the documentation: https://pandas.pydata.org/pandas-docs/stable/user_guide/indexing.html#returning-a-view-versus-a-copy\n",
            "  self[k1] = value[k2]\n"
          ]
        },
        {
          "output_type": "execute_result",
          "data": {
            "text/plain": [
              "   OFFER_NAME CUSTOMER_TYPE    CUSTOMER_GROUP CURRENT_STATUS ESCALATION_FLAG  \\\n",
              "0          24           CBU         FTTH Home       Resolved             Yes   \n",
              "1         140           CBU               NaN       Resolved             Yes   \n",
              "2           9           CBU  Wanadoo-ADSL-Res       Resolved              No   \n",
              "\n",
              "  ESCALATED_GROUP         OPEN_DATE    OPEN_USER        CLOSE_DATE  \\\n",
              "0          F&I_BO  19.06.2022 06:07         DANA  21.06.2022 13:41   \n",
              "1       Mobile_BO  04.04.2022 14:11  TCRMService  05.04.2022 12:13   \n",
              "2             NaN  03.08.2022 03:20       MOUTAZ  03.08.2022 03:20   \n",
              "\n",
              "           CLOSE_GROUP CLOSE_USER  AGE_BRACKET      ACTUAL_COMPLAINT  \\\n",
              "0               F&I_BO       DANA          2.0      Actual Complaint   \n",
              "1            Mobile_BO      ENNAS          1.0  Not Actual Complaint   \n",
              "2  CYC_COMMERCAIL_TEAM     MOUTAZ          1.0       User Not Filled   \n",
              "\n",
              "  CALLBACK_MECHANISM                    OPEN_GR COMPLAINT_TYPE  PRODUCT  \\\n",
              "0              Phone  CBU / EBU - personal view      Technical        0   \n",
              "1              Phone       System Administrator     Commercial        1   \n",
              "2                NaN      CBU - CC 1st Layer A       Technical        0   \n",
              "\n",
              "                  CASE  \n",
              "0  Technical complaint  \n",
              "1     Commercial claim  \n",
              "2  Technical complaint  "
            ],
            "text/html": [
              "\n",
              "  <div id=\"df-31a9d602-d9c4-4ac8-bfa5-fdacb99d962e\">\n",
              "    <div class=\"colab-df-container\">\n",
              "      <div>\n",
              "<style scoped>\n",
              "    .dataframe tbody tr th:only-of-type {\n",
              "        vertical-align: middle;\n",
              "    }\n",
              "\n",
              "    .dataframe tbody tr th {\n",
              "        vertical-align: top;\n",
              "    }\n",
              "\n",
              "    .dataframe thead th {\n",
              "        text-align: right;\n",
              "    }\n",
              "</style>\n",
              "<table border=\"1\" class=\"dataframe\">\n",
              "  <thead>\n",
              "    <tr style=\"text-align: right;\">\n",
              "      <th></th>\n",
              "      <th>OFFER_NAME</th>\n",
              "      <th>CUSTOMER_TYPE</th>\n",
              "      <th>CUSTOMER_GROUP</th>\n",
              "      <th>CURRENT_STATUS</th>\n",
              "      <th>ESCALATION_FLAG</th>\n",
              "      <th>ESCALATED_GROUP</th>\n",
              "      <th>OPEN_DATE</th>\n",
              "      <th>OPEN_USER</th>\n",
              "      <th>CLOSE_DATE</th>\n",
              "      <th>CLOSE_GROUP</th>\n",
              "      <th>CLOSE_USER</th>\n",
              "      <th>AGE_BRACKET</th>\n",
              "      <th>ACTUAL_COMPLAINT</th>\n",
              "      <th>CALLBACK_MECHANISM</th>\n",
              "      <th>OPEN_GR</th>\n",
              "      <th>COMPLAINT_TYPE</th>\n",
              "      <th>PRODUCT</th>\n",
              "      <th>CASE</th>\n",
              "    </tr>\n",
              "  </thead>\n",
              "  <tbody>\n",
              "    <tr>\n",
              "      <th>0</th>\n",
              "      <td>24</td>\n",
              "      <td>CBU</td>\n",
              "      <td>FTTH Home</td>\n",
              "      <td>Resolved</td>\n",
              "      <td>Yes</td>\n",
              "      <td>F&amp;I_BO</td>\n",
              "      <td>19.06.2022 06:07</td>\n",
              "      <td>DANA</td>\n",
              "      <td>21.06.2022 13:41</td>\n",
              "      <td>F&amp;I_BO</td>\n",
              "      <td>DANA</td>\n",
              "      <td>2.0</td>\n",
              "      <td>Actual Complaint</td>\n",
              "      <td>Phone</td>\n",
              "      <td>CBU / EBU - personal view</td>\n",
              "      <td>Technical</td>\n",
              "      <td>0</td>\n",
              "      <td>Technical complaint</td>\n",
              "    </tr>\n",
              "    <tr>\n",
              "      <th>1</th>\n",
              "      <td>140</td>\n",
              "      <td>CBU</td>\n",
              "      <td>NaN</td>\n",
              "      <td>Resolved</td>\n",
              "      <td>Yes</td>\n",
              "      <td>Mobile_BO</td>\n",
              "      <td>04.04.2022 14:11</td>\n",
              "      <td>TCRMService</td>\n",
              "      <td>05.04.2022 12:13</td>\n",
              "      <td>Mobile_BO</td>\n",
              "      <td>ENNAS</td>\n",
              "      <td>1.0</td>\n",
              "      <td>Not Actual Complaint</td>\n",
              "      <td>Phone</td>\n",
              "      <td>System Administrator</td>\n",
              "      <td>Commercial</td>\n",
              "      <td>1</td>\n",
              "      <td>Commercial claim</td>\n",
              "    </tr>\n",
              "    <tr>\n",
              "      <th>2</th>\n",
              "      <td>9</td>\n",
              "      <td>CBU</td>\n",
              "      <td>Wanadoo-ADSL-Res</td>\n",
              "      <td>Resolved</td>\n",
              "      <td>No</td>\n",
              "      <td>NaN</td>\n",
              "      <td>03.08.2022 03:20</td>\n",
              "      <td>MOUTAZ</td>\n",
              "      <td>03.08.2022 03:20</td>\n",
              "      <td>CYC_COMMERCAIL_TEAM</td>\n",
              "      <td>MOUTAZ</td>\n",
              "      <td>1.0</td>\n",
              "      <td>User Not Filled</td>\n",
              "      <td>NaN</td>\n",
              "      <td>CBU - CC 1st Layer A</td>\n",
              "      <td>Technical</td>\n",
              "      <td>0</td>\n",
              "      <td>Technical complaint</td>\n",
              "    </tr>\n",
              "  </tbody>\n",
              "</table>\n",
              "</div>\n",
              "      <button class=\"colab-df-convert\" onclick=\"convertToInteractive('df-31a9d602-d9c4-4ac8-bfa5-fdacb99d962e')\"\n",
              "              title=\"Convert this dataframe to an interactive table.\"\n",
              "              style=\"display:none;\">\n",
              "        \n",
              "  <svg xmlns=\"http://www.w3.org/2000/svg\" height=\"24px\"viewBox=\"0 0 24 24\"\n",
              "       width=\"24px\">\n",
              "    <path d=\"M0 0h24v24H0V0z\" fill=\"none\"/>\n",
              "    <path d=\"M18.56 5.44l.94 2.06.94-2.06 2.06-.94-2.06-.94-.94-2.06-.94 2.06-2.06.94zm-11 1L8.5 8.5l.94-2.06 2.06-.94-2.06-.94L8.5 2.5l-.94 2.06-2.06.94zm10 10l.94 2.06.94-2.06 2.06-.94-2.06-.94-.94-2.06-.94 2.06-2.06.94z\"/><path d=\"M17.41 7.96l-1.37-1.37c-.4-.4-.92-.59-1.43-.59-.52 0-1.04.2-1.43.59L10.3 9.45l-7.72 7.72c-.78.78-.78 2.05 0 2.83L4 21.41c.39.39.9.59 1.41.59.51 0 1.02-.2 1.41-.59l7.78-7.78 2.81-2.81c.8-.78.8-2.07 0-2.86zM5.41 20L4 18.59l7.72-7.72 1.47 1.35L5.41 20z\"/>\n",
              "  </svg>\n",
              "      </button>\n",
              "      \n",
              "  <style>\n",
              "    .colab-df-container {\n",
              "      display:flex;\n",
              "      flex-wrap:wrap;\n",
              "      gap: 12px;\n",
              "    }\n",
              "\n",
              "    .colab-df-convert {\n",
              "      background-color: #E8F0FE;\n",
              "      border: none;\n",
              "      border-radius: 50%;\n",
              "      cursor: pointer;\n",
              "      display: none;\n",
              "      fill: #1967D2;\n",
              "      height: 32px;\n",
              "      padding: 0 0 0 0;\n",
              "      width: 32px;\n",
              "    }\n",
              "\n",
              "    .colab-df-convert:hover {\n",
              "      background-color: #E2EBFA;\n",
              "      box-shadow: 0px 1px 2px rgba(60, 64, 67, 0.3), 0px 1px 3px 1px rgba(60, 64, 67, 0.15);\n",
              "      fill: #174EA6;\n",
              "    }\n",
              "\n",
              "    [theme=dark] .colab-df-convert {\n",
              "      background-color: #3B4455;\n",
              "      fill: #D2E3FC;\n",
              "    }\n",
              "\n",
              "    [theme=dark] .colab-df-convert:hover {\n",
              "      background-color: #434B5C;\n",
              "      box-shadow: 0px 1px 3px 1px rgba(0, 0, 0, 0.15);\n",
              "      filter: drop-shadow(0px 1px 2px rgba(0, 0, 0, 0.3));\n",
              "      fill: #FFFFFF;\n",
              "    }\n",
              "  </style>\n",
              "\n",
              "      <script>\n",
              "        const buttonEl =\n",
              "          document.querySelector('#df-31a9d602-d9c4-4ac8-bfa5-fdacb99d962e button.colab-df-convert');\n",
              "        buttonEl.style.display =\n",
              "          google.colab.kernel.accessAllowed ? 'block' : 'none';\n",
              "\n",
              "        async function convertToInteractive(key) {\n",
              "          const element = document.querySelector('#df-31a9d602-d9c4-4ac8-bfa5-fdacb99d962e');\n",
              "          const dataTable =\n",
              "            await google.colab.kernel.invokeFunction('convertToInteractive',\n",
              "                                                     [key], {});\n",
              "          if (!dataTable) return;\n",
              "\n",
              "          const docLinkHtml = 'Like what you see? Visit the ' +\n",
              "            '<a target=\"_blank\" href=https://colab.research.google.com/notebooks/data_table.ipynb>data table notebook</a>'\n",
              "            + ' to learn more about interactive tables.';\n",
              "          element.innerHTML = '';\n",
              "          dataTable['output_type'] = 'display_data';\n",
              "          await google.colab.output.renderOutput(dataTable, element);\n",
              "          const docLink = document.createElement('div');\n",
              "          docLink.innerHTML = docLinkHtml;\n",
              "          element.appendChild(docLink);\n",
              "        }\n",
              "      </script>\n",
              "    </div>\n",
              "  </div>\n",
              "  "
            ]
          },
          "metadata": {},
          "execution_count": 218
        }
      ]
    },
    {
      "cell_type": "code",
      "source": [
        "df['OFFER_NAME'] = df['OFFER_NAME'].fillna(df.groupby('PRODUCT')['OFFER_NAME'].agg(pd.Series.mode))"
      ],
      "metadata": {
        "id": "ri3KxtAkaDGg",
        "colab": {
          "base_uri": "https://localhost:8080/"
        },
        "outputId": "c3ec9aab-298f-4541-9920-c4b2df3e1736"
      },
      "execution_count": null,
      "outputs": [
        {
          "output_type": "stream",
          "name": "stderr",
          "text": [
            "<ipython-input-219-058eb0ccaa3c>:1: SettingWithCopyWarning: \n",
            "A value is trying to be set on a copy of a slice from a DataFrame.\n",
            "Try using .loc[row_indexer,col_indexer] = value instead\n",
            "\n",
            "See the caveats in the documentation: https://pandas.pydata.org/pandas-docs/stable/user_guide/indexing.html#returning-a-view-versus-a-copy\n",
            "  df['OFFER_NAME'] = df['OFFER_NAME'].fillna(df.groupby('PRODUCT')['OFFER_NAME'].agg(pd.Series.mode))\n"
          ]
        }
      ]
    },
    {
      "cell_type": "code",
      "source": [
        "df.isnull().sum()"
      ],
      "metadata": {
        "colab": {
          "base_uri": "https://localhost:8080/"
        },
        "id": "e7Z_dD_saHm1",
        "outputId": "e98794c5-3dc0-46f1-d928-b1553a363f32"
      },
      "execution_count": null,
      "outputs": [
        {
          "output_type": "execute_result",
          "data": {
            "text/plain": [
              "OFFER_NAME               0\n",
              "CUSTOMER_TYPE            0\n",
              "CUSTOMER_GROUP        1345\n",
              "CURRENT_STATUS           0\n",
              "ESCALATION_FLAG          0\n",
              "ESCALATED_GROUP       7047\n",
              "OPEN_DATE                0\n",
              "OPEN_USER              362\n",
              "CLOSE_DATE             119\n",
              "CLOSE_GROUP           4887\n",
              "CLOSE_USER             516\n",
              "AGE_BRACKET            119\n",
              "ACTUAL_COMPLAINT         0\n",
              "CALLBACK_MECHANISM    7269\n",
              "OPEN_GR               4558\n",
              "COMPLAINT_TYPE           0\n",
              "PRODUCT                  0\n",
              "CASE                     0\n",
              "dtype: int64"
            ]
          },
          "metadata": {},
          "execution_count": 220
        }
      ]
    },
    {
      "cell_type": "code",
      "source": [
        "df['CUSTOMER_GROUP'].unique()"
      ],
      "metadata": {
        "colab": {
          "base_uri": "https://localhost:8080/"
        },
        "id": "V-2BdYddaKRL",
        "outputId": "4bac8251-1d1c-440b-dae1-3a45b6d1c0fc"
      },
      "execution_count": null,
      "outputs": [
        {
          "output_type": "execute_result",
          "data": {
            "text/plain": [
              "array(['FTTH Home', nan, 'Wanadoo-ADSL-Res', 'Prepaid', 'FTTB Corporate',\n",
              "       'IP Test', 'Premium Family internet', 'Government Precorp',\n",
              "       'OL campaigns', 'Residential', 'PM Governorate',\n",
              "       'Fiber 2 years commitment FTTH', 'Family Mobile-IEW',\n",
              "       'resigned Emp and family FTTH', 'Internet everywhere IEW',\n",
              "       'FTTB Pro', 'Emp and Family FTTH', 'MobileCom Test Lines',\n",
              "       'Family GOV mobile', 'SME Post-Hybrid GOV', 'SME Post-Hybrid',\n",
              "       'Family loyalty Mobile', 'Family GOV internet',\n",
              "       'PreCorp Customers', 'Pro Convergent Internet', 'Internet SME',\n",
              "       'Fiber Loyalty', 'Family FTTH', 'Fiber 1 year commitment FTTH',\n",
              "       'Family Internet', 'Royal Court', 'ADSL one year commitment',\n",
              "       'KA-HYPRID', 'Elite+ FTTH', 'Emp and family ADSL',\n",
              "       'Naitel customers FTTH', 'Elite+ Mobile', 'Army PM Mobile',\n",
              "       'Premium  Mobile', 'Corporate Large Account',\n",
              "       'GOV.. ADSL Enterprise', 'Family Loyalty Internet', 'ALPHA',\n",
              "       'PRO ADSL', 'Family FTTH mobile offers', 'Previous Orange Fund',\n",
              "       'OL FTTH campaigns', 'Pro Convergent Mobile-IEW', 'IEW PM ARMY',\n",
              "       'PM Retention', 'KA-POST', 'Hayyak Retention ADSL', 'Premium FTTH',\n",
              "       'PM IEW Governorates', 'SME.. ADSL Enterprise', 'WI TRIBE - ADSL',\n",
              "       'Dunning retention group', 'Data Only - M2M',\n",
              "       'Teacher res segmented', 'Army. APVPN Enterprise',\n",
              "       'ARMY-ARMY-HYPRID', 'RES Special TS - ADSL', 'Solo and Soho',\n",
              "       'Orange Fund', 'SME.. LL Enterprise', 'Army. ADSL Enterprise',\n",
              "       'Wanadoo-ADSL-CORP', 'LNA-POST', 'Government Postpaid',\n",
              "       'resigned Emp and family', 'Pro Naitel FTTP FTTH',\n",
              "       'EBU Convergent Mobile/BEW', 'Hayyak Retention IEW',\n",
              "       'Premium Internet'], dtype=object)"
            ]
          },
          "metadata": {},
          "execution_count": 221
        }
      ]
    },
    {
      "cell_type": "code",
      "source": [
        "#identify categorical variables in customer_group and customer_type\n",
        "cat_columns = ['CUSTOMER_GROUP','CUSTOMER_TYPE']\n",
        "cat_columns"
      ],
      "metadata": {
        "colab": {
          "base_uri": "https://localhost:8080/"
        },
        "id": "MYQw421paNX8",
        "outputId": "82614aa8-0cfa-4089-cf91-d8ba99e52009"
      },
      "execution_count": null,
      "outputs": [
        {
          "output_type": "execute_result",
          "data": {
            "text/plain": [
              "['CUSTOMER_GROUP', 'CUSTOMER_TYPE']"
            ]
          },
          "metadata": {},
          "execution_count": 222
        }
      ]
    },
    {
      "cell_type": "code",
      "source": [
        "#convert all categorical variables to numeric\n",
        "from sklearn.preprocessing import LabelEncoder\n",
        "label_encoder = LabelEncoder()\n",
        "df[cat_columns] = df[cat_columns].apply(LabelEncoder().fit_transform)\n",
        "df.head(3)"
      ],
      "metadata": {
        "colab": {
          "base_uri": "https://localhost:8080/"
        },
        "id": "scU01BWeaSOl",
        "outputId": "d85318c9-d194-4cba-bc2c-62c473f55955"
      },
      "execution_count": null,
      "outputs": [
        {
          "output_type": "execute_result",
          "data": {
            "text/plain": [
              "   OFFER_NAME  CUSTOMER_TYPE  CUSTOMER_GROUP CURRENT_STATUS ESCALATION_FLAG  \\\n",
              "0          24              0              16       Resolved             Yes   \n",
              "1         140              0              73       Resolved             Yes   \n",
              "2           9              0              70       Resolved              No   \n",
              "\n",
              "  ESCALATED_GROUP         OPEN_DATE    OPEN_USER        CLOSE_DATE  \\\n",
              "0          F&I_BO  19.06.2022 06:07         DANA  21.06.2022 13:41   \n",
              "1       Mobile_BO  04.04.2022 14:11  TCRMService  05.04.2022 12:13   \n",
              "2             NaN  03.08.2022 03:20       MOUTAZ  03.08.2022 03:20   \n",
              "\n",
              "           CLOSE_GROUP CLOSE_USER  AGE_BRACKET      ACTUAL_COMPLAINT  \\\n",
              "0               F&I_BO       DANA          2.0      Actual Complaint   \n",
              "1            Mobile_BO      ENNAS          1.0  Not Actual Complaint   \n",
              "2  CYC_COMMERCAIL_TEAM     MOUTAZ          1.0       User Not Filled   \n",
              "\n",
              "  CALLBACK_MECHANISM                    OPEN_GR COMPLAINT_TYPE  PRODUCT  \\\n",
              "0              Phone  CBU / EBU - personal view      Technical        0   \n",
              "1              Phone       System Administrator     Commercial        1   \n",
              "2                NaN      CBU - CC 1st Layer A       Technical        0   \n",
              "\n",
              "                  CASE  \n",
              "0  Technical complaint  \n",
              "1     Commercial claim  \n",
              "2  Technical complaint  "
            ],
            "text/html": [
              "\n",
              "  <div id=\"df-220b3c21-626c-4710-a109-dc6b31f244a9\">\n",
              "    <div class=\"colab-df-container\">\n",
              "      <div>\n",
              "<style scoped>\n",
              "    .dataframe tbody tr th:only-of-type {\n",
              "        vertical-align: middle;\n",
              "    }\n",
              "\n",
              "    .dataframe tbody tr th {\n",
              "        vertical-align: top;\n",
              "    }\n",
              "\n",
              "    .dataframe thead th {\n",
              "        text-align: right;\n",
              "    }\n",
              "</style>\n",
              "<table border=\"1\" class=\"dataframe\">\n",
              "  <thead>\n",
              "    <tr style=\"text-align: right;\">\n",
              "      <th></th>\n",
              "      <th>OFFER_NAME</th>\n",
              "      <th>CUSTOMER_TYPE</th>\n",
              "      <th>CUSTOMER_GROUP</th>\n",
              "      <th>CURRENT_STATUS</th>\n",
              "      <th>ESCALATION_FLAG</th>\n",
              "      <th>ESCALATED_GROUP</th>\n",
              "      <th>OPEN_DATE</th>\n",
              "      <th>OPEN_USER</th>\n",
              "      <th>CLOSE_DATE</th>\n",
              "      <th>CLOSE_GROUP</th>\n",
              "      <th>CLOSE_USER</th>\n",
              "      <th>AGE_BRACKET</th>\n",
              "      <th>ACTUAL_COMPLAINT</th>\n",
              "      <th>CALLBACK_MECHANISM</th>\n",
              "      <th>OPEN_GR</th>\n",
              "      <th>COMPLAINT_TYPE</th>\n",
              "      <th>PRODUCT</th>\n",
              "      <th>CASE</th>\n",
              "    </tr>\n",
              "  </thead>\n",
              "  <tbody>\n",
              "    <tr>\n",
              "      <th>0</th>\n",
              "      <td>24</td>\n",
              "      <td>0</td>\n",
              "      <td>16</td>\n",
              "      <td>Resolved</td>\n",
              "      <td>Yes</td>\n",
              "      <td>F&amp;I_BO</td>\n",
              "      <td>19.06.2022 06:07</td>\n",
              "      <td>DANA</td>\n",
              "      <td>21.06.2022 13:41</td>\n",
              "      <td>F&amp;I_BO</td>\n",
              "      <td>DANA</td>\n",
              "      <td>2.0</td>\n",
              "      <td>Actual Complaint</td>\n",
              "      <td>Phone</td>\n",
              "      <td>CBU / EBU - personal view</td>\n",
              "      <td>Technical</td>\n",
              "      <td>0</td>\n",
              "      <td>Technical complaint</td>\n",
              "    </tr>\n",
              "    <tr>\n",
              "      <th>1</th>\n",
              "      <td>140</td>\n",
              "      <td>0</td>\n",
              "      <td>73</td>\n",
              "      <td>Resolved</td>\n",
              "      <td>Yes</td>\n",
              "      <td>Mobile_BO</td>\n",
              "      <td>04.04.2022 14:11</td>\n",
              "      <td>TCRMService</td>\n",
              "      <td>05.04.2022 12:13</td>\n",
              "      <td>Mobile_BO</td>\n",
              "      <td>ENNAS</td>\n",
              "      <td>1.0</td>\n",
              "      <td>Not Actual Complaint</td>\n",
              "      <td>Phone</td>\n",
              "      <td>System Administrator</td>\n",
              "      <td>Commercial</td>\n",
              "      <td>1</td>\n",
              "      <td>Commercial claim</td>\n",
              "    </tr>\n",
              "    <tr>\n",
              "      <th>2</th>\n",
              "      <td>9</td>\n",
              "      <td>0</td>\n",
              "      <td>70</td>\n",
              "      <td>Resolved</td>\n",
              "      <td>No</td>\n",
              "      <td>NaN</td>\n",
              "      <td>03.08.2022 03:20</td>\n",
              "      <td>MOUTAZ</td>\n",
              "      <td>03.08.2022 03:20</td>\n",
              "      <td>CYC_COMMERCAIL_TEAM</td>\n",
              "      <td>MOUTAZ</td>\n",
              "      <td>1.0</td>\n",
              "      <td>User Not Filled</td>\n",
              "      <td>NaN</td>\n",
              "      <td>CBU - CC 1st Layer A</td>\n",
              "      <td>Technical</td>\n",
              "      <td>0</td>\n",
              "      <td>Technical complaint</td>\n",
              "    </tr>\n",
              "  </tbody>\n",
              "</table>\n",
              "</div>\n",
              "      <button class=\"colab-df-convert\" onclick=\"convertToInteractive('df-220b3c21-626c-4710-a109-dc6b31f244a9')\"\n",
              "              title=\"Convert this dataframe to an interactive table.\"\n",
              "              style=\"display:none;\">\n",
              "        \n",
              "  <svg xmlns=\"http://www.w3.org/2000/svg\" height=\"24px\"viewBox=\"0 0 24 24\"\n",
              "       width=\"24px\">\n",
              "    <path d=\"M0 0h24v24H0V0z\" fill=\"none\"/>\n",
              "    <path d=\"M18.56 5.44l.94 2.06.94-2.06 2.06-.94-2.06-.94-.94-2.06-.94 2.06-2.06.94zm-11 1L8.5 8.5l.94-2.06 2.06-.94-2.06-.94L8.5 2.5l-.94 2.06-2.06.94zm10 10l.94 2.06.94-2.06 2.06-.94-2.06-.94-.94-2.06-.94 2.06-2.06.94z\"/><path d=\"M17.41 7.96l-1.37-1.37c-.4-.4-.92-.59-1.43-.59-.52 0-1.04.2-1.43.59L10.3 9.45l-7.72 7.72c-.78.78-.78 2.05 0 2.83L4 21.41c.39.39.9.59 1.41.59.51 0 1.02-.2 1.41-.59l7.78-7.78 2.81-2.81c.8-.78.8-2.07 0-2.86zM5.41 20L4 18.59l7.72-7.72 1.47 1.35L5.41 20z\"/>\n",
              "  </svg>\n",
              "      </button>\n",
              "      \n",
              "  <style>\n",
              "    .colab-df-container {\n",
              "      display:flex;\n",
              "      flex-wrap:wrap;\n",
              "      gap: 12px;\n",
              "    }\n",
              "\n",
              "    .colab-df-convert {\n",
              "      background-color: #E8F0FE;\n",
              "      border: none;\n",
              "      border-radius: 50%;\n",
              "      cursor: pointer;\n",
              "      display: none;\n",
              "      fill: #1967D2;\n",
              "      height: 32px;\n",
              "      padding: 0 0 0 0;\n",
              "      width: 32px;\n",
              "    }\n",
              "\n",
              "    .colab-df-convert:hover {\n",
              "      background-color: #E2EBFA;\n",
              "      box-shadow: 0px 1px 2px rgba(60, 64, 67, 0.3), 0px 1px 3px 1px rgba(60, 64, 67, 0.15);\n",
              "      fill: #174EA6;\n",
              "    }\n",
              "\n",
              "    [theme=dark] .colab-df-convert {\n",
              "      background-color: #3B4455;\n",
              "      fill: #D2E3FC;\n",
              "    }\n",
              "\n",
              "    [theme=dark] .colab-df-convert:hover {\n",
              "      background-color: #434B5C;\n",
              "      box-shadow: 0px 1px 3px 1px rgba(0, 0, 0, 0.15);\n",
              "      filter: drop-shadow(0px 1px 2px rgba(0, 0, 0, 0.3));\n",
              "      fill: #FFFFFF;\n",
              "    }\n",
              "  </style>\n",
              "\n",
              "      <script>\n",
              "        const buttonEl =\n",
              "          document.querySelector('#df-220b3c21-626c-4710-a109-dc6b31f244a9 button.colab-df-convert');\n",
              "        buttonEl.style.display =\n",
              "          google.colab.kernel.accessAllowed ? 'block' : 'none';\n",
              "\n",
              "        async function convertToInteractive(key) {\n",
              "          const element = document.querySelector('#df-220b3c21-626c-4710-a109-dc6b31f244a9');\n",
              "          const dataTable =\n",
              "            await google.colab.kernel.invokeFunction('convertToInteractive',\n",
              "                                                     [key], {});\n",
              "          if (!dataTable) return;\n",
              "\n",
              "          const docLinkHtml = 'Like what you see? Visit the ' +\n",
              "            '<a target=\"_blank\" href=https://colab.research.google.com/notebooks/data_table.ipynb>data table notebook</a>'\n",
              "            + ' to learn more about interactive tables.';\n",
              "          element.innerHTML = '';\n",
              "          dataTable['output_type'] = 'display_data';\n",
              "          await google.colab.output.renderOutput(dataTable, element);\n",
              "          const docLink = document.createElement('div');\n",
              "          docLink.innerHTML = docLinkHtml;\n",
              "          element.appendChild(docLink);\n",
              "        }\n",
              "      </script>\n",
              "    </div>\n",
              "  </div>\n",
              "  "
            ]
          },
          "metadata": {},
          "execution_count": 223
        }
      ]
    },
    {
      "cell_type": "code",
      "source": [
        "df['CUSTOMER_GROUP'] = df['CUSTOMER_GROUP'].fillna(df.groupby('CUSTOMER_TYPE')['CUSTOMER_GROUP'].agg(pd.Series.mode))"
      ],
      "metadata": {
        "id": "6t24OsoMaU8p"
      },
      "execution_count": null,
      "outputs": []
    },
    {
      "cell_type": "code",
      "source": [
        "#to show the mode value in the ESCALATED_GROUP column\n",
        "df['ESCALATED_GROUP'].mode()"
      ],
      "metadata": {
        "colab": {
          "base_uri": "https://localhost:8080/"
        },
        "id": "YcVMchruaafF",
        "outputId": "4cfbfef4-5e03-4397-8727-b77269c3e0b2"
      },
      "execution_count": null,
      "outputs": [
        {
          "output_type": "execute_result",
          "data": {
            "text/plain": [
              "0    Mobile_BO\n",
              "dtype: object"
            ]
          },
          "metadata": {},
          "execution_count": 225
        }
      ]
    },
    {
      "cell_type": "code",
      "source": [
        "df['ESCALATED_GROUP']=np.where(df['ESCALATION_FLAG']=='No','No GROUP',df['ESCALATED_GROUP'])"
      ],
      "metadata": {
        "id": "ilC7YEIDahCb"
      },
      "execution_count": null,
      "outputs": []
    },
    {
      "cell_type": "code",
      "source": [
        "df.isnull().sum()"
      ],
      "metadata": {
        "colab": {
          "base_uri": "https://localhost:8080/"
        },
        "id": "XjsODqFja0C5",
        "outputId": "1ac36ae2-55b5-4766-a683-f4d5d6216bf1"
      },
      "execution_count": null,
      "outputs": [
        {
          "output_type": "execute_result",
          "data": {
            "text/plain": [
              "OFFER_NAME               0\n",
              "CUSTOMER_TYPE            0\n",
              "CUSTOMER_GROUP           0\n",
              "CURRENT_STATUS           0\n",
              "ESCALATION_FLAG          0\n",
              "ESCALATED_GROUP         42\n",
              "OPEN_DATE                0\n",
              "OPEN_USER              362\n",
              "CLOSE_DATE             119\n",
              "CLOSE_GROUP           4887\n",
              "CLOSE_USER             516\n",
              "AGE_BRACKET            119\n",
              "ACTUAL_COMPLAINT         0\n",
              "CALLBACK_MECHANISM    7269\n",
              "OPEN_GR               4558\n",
              "COMPLAINT_TYPE           0\n",
              "PRODUCT                  0\n",
              "CASE                     0\n",
              "dtype: int64"
            ]
          },
          "metadata": {},
          "execution_count": 227
        }
      ]
    },
    {
      "cell_type": "code",
      "source": [
        "df['ESCALATED_GROUP']=np.where(df['ESCALATION_FLAG']=='No','No GROUP',\"Mobile_BO\")"
      ],
      "metadata": {
        "id": "vtq6RqBla2CO"
      },
      "execution_count": null,
      "outputs": []
    },
    {
      "cell_type": "code",
      "source": [
        "df.isnull().sum()"
      ],
      "metadata": {
        "colab": {
          "base_uri": "https://localhost:8080/"
        },
        "id": "9hHhF-cqa-Ki",
        "outputId": "bb1d7604-17e3-4670-dd95-cee71fc15c1c"
      },
      "execution_count": null,
      "outputs": [
        {
          "output_type": "execute_result",
          "data": {
            "text/plain": [
              "OFFER_NAME               0\n",
              "CUSTOMER_TYPE            0\n",
              "CUSTOMER_GROUP           0\n",
              "CURRENT_STATUS           0\n",
              "ESCALATION_FLAG          0\n",
              "ESCALATED_GROUP          0\n",
              "OPEN_DATE                0\n",
              "OPEN_USER              362\n",
              "CLOSE_DATE             119\n",
              "CLOSE_GROUP           4887\n",
              "CLOSE_USER             516\n",
              "AGE_BRACKET            119\n",
              "ACTUAL_COMPLAINT         0\n",
              "CALLBACK_MECHANISM    7269\n",
              "OPEN_GR               4558\n",
              "COMPLAINT_TYPE           0\n",
              "PRODUCT                  0\n",
              "CASE                     0\n",
              "dtype: int64"
            ]
          },
          "metadata": {},
          "execution_count": 229
        }
      ]
    },
    {
      "cell_type": "code",
      "source": [
        "df['CLOSE_USER']=np.where(df['ESCALATION_FLAG']=='No',df['OPEN_USER'],df['CLOSE_USER'])"
      ],
      "metadata": {
        "id": "KrgzEhx0badm"
      },
      "execution_count": null,
      "outputs": []
    },
    {
      "cell_type": "code",
      "source": [
        "df.isnull().sum()"
      ],
      "metadata": {
        "colab": {
          "base_uri": "https://localhost:8080/"
        },
        "id": "Ur5tYi45bfNF",
        "outputId": "b01be75c-2c3c-4956-b7dc-ec9f676128ac"
      },
      "execution_count": null,
      "outputs": [
        {
          "output_type": "execute_result",
          "data": {
            "text/plain": [
              "OFFER_NAME               0\n",
              "CUSTOMER_TYPE            0\n",
              "CUSTOMER_GROUP           0\n",
              "CURRENT_STATUS           0\n",
              "ESCALATION_FLAG          0\n",
              "ESCALATED_GROUP          0\n",
              "OPEN_DATE                0\n",
              "OPEN_USER              362\n",
              "CLOSE_DATE             119\n",
              "CLOSE_GROUP           4887\n",
              "CLOSE_USER             447\n",
              "AGE_BRACKET            119\n",
              "ACTUAL_COMPLAINT         0\n",
              "CALLBACK_MECHANISM    7269\n",
              "OPEN_GR               4558\n",
              "COMPLAINT_TYPE           0\n",
              "PRODUCT                  0\n",
              "CASE                     0\n",
              "dtype: int64"
            ]
          },
          "metadata": {},
          "execution_count": 231
        }
      ]
    },
    {
      "cell_type": "code",
      "source": [
        "df['CLOSE_USER']=np.where(df['OPEN_USER'],df['OPEN_USER'],df['CLOSE_USER'])"
      ],
      "metadata": {
        "id": "sd_Y-G8wbhqd"
      },
      "execution_count": null,
      "outputs": []
    },
    {
      "cell_type": "code",
      "source": [
        "df.isnull().sum()"
      ],
      "metadata": {
        "colab": {
          "base_uri": "https://localhost:8080/"
        },
        "id": "gJWfEs9gbly2",
        "outputId": "9208b596-66e3-42ca-9c56-aa5f2630d992"
      },
      "execution_count": null,
      "outputs": [
        {
          "output_type": "execute_result",
          "data": {
            "text/plain": [
              "OFFER_NAME               0\n",
              "CUSTOMER_TYPE            0\n",
              "CUSTOMER_GROUP           0\n",
              "CURRENT_STATUS           0\n",
              "ESCALATION_FLAG          0\n",
              "ESCALATED_GROUP          0\n",
              "OPEN_DATE                0\n",
              "OPEN_USER              362\n",
              "CLOSE_DATE             119\n",
              "CLOSE_GROUP           4887\n",
              "CLOSE_USER             362\n",
              "AGE_BRACKET            119\n",
              "ACTUAL_COMPLAINT         0\n",
              "CALLBACK_MECHANISM    7269\n",
              "OPEN_GR               4558\n",
              "COMPLAINT_TYPE           0\n",
              "PRODUCT                  0\n",
              "CASE                     0\n",
              "dtype: int64"
            ]
          },
          "metadata": {},
          "execution_count": 233
        }
      ]
    },
    {
      "cell_type": "code",
      "source": [
        "df['OPEN_USER'].fillna('No User',inplace=True)"
      ],
      "metadata": {
        "id": "VOsU8CKJbpcY"
      },
      "execution_count": null,
      "outputs": []
    },
    {
      "cell_type": "code",
      "source": [
        "df['CLOSE_USER'].fillna('No User',inplace=True)"
      ],
      "metadata": {
        "id": "mpyOaS0fbss0"
      },
      "execution_count": null,
      "outputs": []
    },
    {
      "cell_type": "code",
      "source": [
        "df.isnull().sum()"
      ],
      "metadata": {
        "colab": {
          "base_uri": "https://localhost:8080/"
        },
        "id": "JMDHIY-RbvJZ",
        "outputId": "780d82c0-8c9d-4914-d8f7-47beeea33a21"
      },
      "execution_count": null,
      "outputs": [
        {
          "output_type": "execute_result",
          "data": {
            "text/plain": [
              "OFFER_NAME               0\n",
              "CUSTOMER_TYPE            0\n",
              "CUSTOMER_GROUP           0\n",
              "CURRENT_STATUS           0\n",
              "ESCALATION_FLAG          0\n",
              "ESCALATED_GROUP          0\n",
              "OPEN_DATE                0\n",
              "OPEN_USER                0\n",
              "CLOSE_DATE             119\n",
              "CLOSE_GROUP           4887\n",
              "CLOSE_USER               0\n",
              "AGE_BRACKET            119\n",
              "ACTUAL_COMPLAINT         0\n",
              "CALLBACK_MECHANISM    7269\n",
              "OPEN_GR               4558\n",
              "COMPLAINT_TYPE           0\n",
              "PRODUCT                  0\n",
              "CASE                     0\n",
              "dtype: int64"
            ]
          },
          "metadata": {},
          "execution_count": 236
        }
      ]
    },
    {
      "cell_type": "code",
      "source": [
        "df['CLOSE_DATE']=np.where(df['CURRENT_STATUS']=='Active','No Date',df['CLOSE_DATE'])"
      ],
      "metadata": {
        "id": "qdKElZ8dbxYv"
      },
      "execution_count": null,
      "outputs": []
    },
    {
      "cell_type": "code",
      "source": [
        "df['AGE_BRACKET'].fillna(-1,inplace=True)"
      ],
      "metadata": {
        "id": "n2MdD_78b2jr"
      },
      "execution_count": null,
      "outputs": []
    },
    {
      "cell_type": "code",
      "source": [
        "df.isnull().sum()"
      ],
      "metadata": {
        "colab": {
          "base_uri": "https://localhost:8080/"
        },
        "id": "Urcq_qtzb6Fx",
        "outputId": "994863e9-d8c5-444d-b45e-1269eef7898a"
      },
      "execution_count": null,
      "outputs": [
        {
          "output_type": "execute_result",
          "data": {
            "text/plain": [
              "OFFER_NAME               0\n",
              "CUSTOMER_TYPE            0\n",
              "CUSTOMER_GROUP           0\n",
              "CURRENT_STATUS           0\n",
              "ESCALATION_FLAG          0\n",
              "ESCALATED_GROUP          0\n",
              "OPEN_DATE                0\n",
              "OPEN_USER                0\n",
              "CLOSE_DATE               0\n",
              "CLOSE_GROUP           4887\n",
              "CLOSE_USER               0\n",
              "AGE_BRACKET              0\n",
              "ACTUAL_COMPLAINT         0\n",
              "CALLBACK_MECHANISM    7269\n",
              "OPEN_GR               4558\n",
              "COMPLAINT_TYPE           0\n",
              "PRODUCT                  0\n",
              "CASE                     0\n",
              "dtype: int64"
            ]
          },
          "metadata": {},
          "execution_count": 239
        }
      ]
    },
    {
      "cell_type": "code",
      "source": [
        "df['CLOSE_GROUP']=np.where(df['ESCALATION_FLAG']=='No','No Escalation',df[\"ESCALATED_GROUP\"])"
      ],
      "metadata": {
        "id": "4oFVtiC-cHLf"
      },
      "execution_count": null,
      "outputs": []
    },
    {
      "cell_type": "code",
      "source": [
        "df.isnull().sum()"
      ],
      "metadata": {
        "colab": {
          "base_uri": "https://localhost:8080/"
        },
        "id": "1rXX95q_caji",
        "outputId": "03483e48-6040-4708-9a6c-344c24aea4e5"
      },
      "execution_count": null,
      "outputs": [
        {
          "output_type": "execute_result",
          "data": {
            "text/plain": [
              "OFFER_NAME               0\n",
              "CUSTOMER_TYPE            0\n",
              "CUSTOMER_GROUP           0\n",
              "CURRENT_STATUS           0\n",
              "ESCALATION_FLAG          0\n",
              "ESCALATED_GROUP          0\n",
              "OPEN_DATE                0\n",
              "OPEN_USER                0\n",
              "CLOSE_DATE               0\n",
              "CLOSE_GROUP              0\n",
              "CLOSE_USER               0\n",
              "AGE_BRACKET              0\n",
              "ACTUAL_COMPLAINT         0\n",
              "CALLBACK_MECHANISM    7269\n",
              "OPEN_GR               4558\n",
              "COMPLAINT_TYPE           0\n",
              "PRODUCT                  0\n",
              "CASE                     0\n",
              "dtype: int64"
            ]
          },
          "metadata": {},
          "execution_count": 241
        }
      ]
    },
    {
      "cell_type": "code",
      "source": [
        "df['OPEN_GR'].fillna('No Open Group ',inplace=True)"
      ],
      "metadata": {
        "id": "p3YC5CK7cdON"
      },
      "execution_count": null,
      "outputs": []
    },
    {
      "cell_type": "code",
      "source": [
        "df.isnull().sum()"
      ],
      "metadata": {
        "colab": {
          "base_uri": "https://localhost:8080/"
        },
        "id": "frTXdVoOcjcJ",
        "outputId": "78c786b8-2751-4293-b208-84f4c427a8c1"
      },
      "execution_count": null,
      "outputs": [
        {
          "output_type": "execute_result",
          "data": {
            "text/plain": [
              "OFFER_NAME               0\n",
              "CUSTOMER_TYPE            0\n",
              "CUSTOMER_GROUP           0\n",
              "CURRENT_STATUS           0\n",
              "ESCALATION_FLAG          0\n",
              "ESCALATED_GROUP          0\n",
              "OPEN_DATE                0\n",
              "OPEN_USER                0\n",
              "CLOSE_DATE               0\n",
              "CLOSE_GROUP              0\n",
              "CLOSE_USER               0\n",
              "AGE_BRACKET              0\n",
              "ACTUAL_COMPLAINT         0\n",
              "CALLBACK_MECHANISM    7269\n",
              "OPEN_GR                  0\n",
              "COMPLAINT_TYPE           0\n",
              "PRODUCT                  0\n",
              "CASE                     0\n",
              "dtype: int64"
            ]
          },
          "metadata": {},
          "execution_count": 243
        }
      ]
    },
    {
      "cell_type": "code",
      "source": [
        "df['CALLBACK_MECHANISM'].mode()"
      ],
      "metadata": {
        "colab": {
          "base_uri": "https://localhost:8080/"
        },
        "id": "w2ZtpC0gckrW",
        "outputId": "6befd008-ad2c-4313-a4c6-7439ba4ecceb"
      },
      "execution_count": null,
      "outputs": [
        {
          "output_type": "execute_result",
          "data": {
            "text/plain": [
              "0    SMS\n",
              "dtype: object"
            ]
          },
          "metadata": {},
          "execution_count": 244
        }
      ]
    },
    {
      "cell_type": "code",
      "source": [
        "df['CALLBACK_MECHANISM']=np.where(df['AGE_BRACKET']==1,'Phone','SMS')"
      ],
      "metadata": {
        "id": "cd6Nw2Wecpf6"
      },
      "execution_count": null,
      "outputs": []
    },
    {
      "cell_type": "code",
      "source": [
        "df.isnull().sum()"
      ],
      "metadata": {
        "colab": {
          "base_uri": "https://localhost:8080/"
        },
        "id": "QzBDd0qPcqfJ",
        "outputId": "4a2ecb3f-458f-4ce8-8a43-a6fe86021369"
      },
      "execution_count": null,
      "outputs": [
        {
          "output_type": "execute_result",
          "data": {
            "text/plain": [
              "OFFER_NAME            0\n",
              "CUSTOMER_TYPE         0\n",
              "CUSTOMER_GROUP        0\n",
              "CURRENT_STATUS        0\n",
              "ESCALATION_FLAG       0\n",
              "ESCALATED_GROUP       0\n",
              "OPEN_DATE             0\n",
              "OPEN_USER             0\n",
              "CLOSE_DATE            0\n",
              "CLOSE_GROUP           0\n",
              "CLOSE_USER            0\n",
              "AGE_BRACKET           0\n",
              "ACTUAL_COMPLAINT      0\n",
              "CALLBACK_MECHANISM    0\n",
              "OPEN_GR               0\n",
              "COMPLAINT_TYPE        0\n",
              "PRODUCT               0\n",
              "CASE                  0\n",
              "dtype: int64"
            ]
          },
          "metadata": {},
          "execution_count": 246
        }
      ]
    },
    {
      "cell_type": "code",
      "source": [
        "df.head(3)"
      ],
      "metadata": {
        "colab": {
          "base_uri": "https://localhost:8080/"
        },
        "id": "1TpcGMFoctDj",
        "outputId": "d9d7dc71-678b-479a-b74b-895cfc703a7b"
      },
      "execution_count": null,
      "outputs": [
        {
          "output_type": "execute_result",
          "data": {
            "text/plain": [
              "   OFFER_NAME  CUSTOMER_TYPE  CUSTOMER_GROUP CURRENT_STATUS ESCALATION_FLAG  \\\n",
              "0          24              0              16       Resolved             Yes   \n",
              "1         140              0              73       Resolved             Yes   \n",
              "2           9              0              70       Resolved              No   \n",
              "\n",
              "  ESCALATED_GROUP         OPEN_DATE    OPEN_USER        CLOSE_DATE  \\\n",
              "0       Mobile_BO  19.06.2022 06:07         DANA  21.06.2022 13:41   \n",
              "1       Mobile_BO  04.04.2022 14:11  TCRMService  05.04.2022 12:13   \n",
              "2        No GROUP  03.08.2022 03:20       MOUTAZ  03.08.2022 03:20   \n",
              "\n",
              "     CLOSE_GROUP   CLOSE_USER  AGE_BRACKET      ACTUAL_COMPLAINT  \\\n",
              "0      Mobile_BO         DANA          2.0      Actual Complaint   \n",
              "1      Mobile_BO  TCRMService          1.0  Not Actual Complaint   \n",
              "2  No Escalation       MOUTAZ          1.0       User Not Filled   \n",
              "\n",
              "  CALLBACK_MECHANISM                    OPEN_GR COMPLAINT_TYPE  PRODUCT  \\\n",
              "0                SMS  CBU / EBU - personal view      Technical        0   \n",
              "1              Phone       System Administrator     Commercial        1   \n",
              "2              Phone      CBU - CC 1st Layer A       Technical        0   \n",
              "\n",
              "                  CASE  \n",
              "0  Technical complaint  \n",
              "1     Commercial claim  \n",
              "2  Technical complaint  "
            ],
            "text/html": [
              "\n",
              "  <div id=\"df-5bfac5f3-3719-4ffc-b76c-5a5116671e45\">\n",
              "    <div class=\"colab-df-container\">\n",
              "      <div>\n",
              "<style scoped>\n",
              "    .dataframe tbody tr th:only-of-type {\n",
              "        vertical-align: middle;\n",
              "    }\n",
              "\n",
              "    .dataframe tbody tr th {\n",
              "        vertical-align: top;\n",
              "    }\n",
              "\n",
              "    .dataframe thead th {\n",
              "        text-align: right;\n",
              "    }\n",
              "</style>\n",
              "<table border=\"1\" class=\"dataframe\">\n",
              "  <thead>\n",
              "    <tr style=\"text-align: right;\">\n",
              "      <th></th>\n",
              "      <th>OFFER_NAME</th>\n",
              "      <th>CUSTOMER_TYPE</th>\n",
              "      <th>CUSTOMER_GROUP</th>\n",
              "      <th>CURRENT_STATUS</th>\n",
              "      <th>ESCALATION_FLAG</th>\n",
              "      <th>ESCALATED_GROUP</th>\n",
              "      <th>OPEN_DATE</th>\n",
              "      <th>OPEN_USER</th>\n",
              "      <th>CLOSE_DATE</th>\n",
              "      <th>CLOSE_GROUP</th>\n",
              "      <th>CLOSE_USER</th>\n",
              "      <th>AGE_BRACKET</th>\n",
              "      <th>ACTUAL_COMPLAINT</th>\n",
              "      <th>CALLBACK_MECHANISM</th>\n",
              "      <th>OPEN_GR</th>\n",
              "      <th>COMPLAINT_TYPE</th>\n",
              "      <th>PRODUCT</th>\n",
              "      <th>CASE</th>\n",
              "    </tr>\n",
              "  </thead>\n",
              "  <tbody>\n",
              "    <tr>\n",
              "      <th>0</th>\n",
              "      <td>24</td>\n",
              "      <td>0</td>\n",
              "      <td>16</td>\n",
              "      <td>Resolved</td>\n",
              "      <td>Yes</td>\n",
              "      <td>Mobile_BO</td>\n",
              "      <td>19.06.2022 06:07</td>\n",
              "      <td>DANA</td>\n",
              "      <td>21.06.2022 13:41</td>\n",
              "      <td>Mobile_BO</td>\n",
              "      <td>DANA</td>\n",
              "      <td>2.0</td>\n",
              "      <td>Actual Complaint</td>\n",
              "      <td>SMS</td>\n",
              "      <td>CBU / EBU - personal view</td>\n",
              "      <td>Technical</td>\n",
              "      <td>0</td>\n",
              "      <td>Technical complaint</td>\n",
              "    </tr>\n",
              "    <tr>\n",
              "      <th>1</th>\n",
              "      <td>140</td>\n",
              "      <td>0</td>\n",
              "      <td>73</td>\n",
              "      <td>Resolved</td>\n",
              "      <td>Yes</td>\n",
              "      <td>Mobile_BO</td>\n",
              "      <td>04.04.2022 14:11</td>\n",
              "      <td>TCRMService</td>\n",
              "      <td>05.04.2022 12:13</td>\n",
              "      <td>Mobile_BO</td>\n",
              "      <td>TCRMService</td>\n",
              "      <td>1.0</td>\n",
              "      <td>Not Actual Complaint</td>\n",
              "      <td>Phone</td>\n",
              "      <td>System Administrator</td>\n",
              "      <td>Commercial</td>\n",
              "      <td>1</td>\n",
              "      <td>Commercial claim</td>\n",
              "    </tr>\n",
              "    <tr>\n",
              "      <th>2</th>\n",
              "      <td>9</td>\n",
              "      <td>0</td>\n",
              "      <td>70</td>\n",
              "      <td>Resolved</td>\n",
              "      <td>No</td>\n",
              "      <td>No GROUP</td>\n",
              "      <td>03.08.2022 03:20</td>\n",
              "      <td>MOUTAZ</td>\n",
              "      <td>03.08.2022 03:20</td>\n",
              "      <td>No Escalation</td>\n",
              "      <td>MOUTAZ</td>\n",
              "      <td>1.0</td>\n",
              "      <td>User Not Filled</td>\n",
              "      <td>Phone</td>\n",
              "      <td>CBU - CC 1st Layer A</td>\n",
              "      <td>Technical</td>\n",
              "      <td>0</td>\n",
              "      <td>Technical complaint</td>\n",
              "    </tr>\n",
              "  </tbody>\n",
              "</table>\n",
              "</div>\n",
              "      <button class=\"colab-df-convert\" onclick=\"convertToInteractive('df-5bfac5f3-3719-4ffc-b76c-5a5116671e45')\"\n",
              "              title=\"Convert this dataframe to an interactive table.\"\n",
              "              style=\"display:none;\">\n",
              "        \n",
              "  <svg xmlns=\"http://www.w3.org/2000/svg\" height=\"24px\"viewBox=\"0 0 24 24\"\n",
              "       width=\"24px\">\n",
              "    <path d=\"M0 0h24v24H0V0z\" fill=\"none\"/>\n",
              "    <path d=\"M18.56 5.44l.94 2.06.94-2.06 2.06-.94-2.06-.94-.94-2.06-.94 2.06-2.06.94zm-11 1L8.5 8.5l.94-2.06 2.06-.94-2.06-.94L8.5 2.5l-.94 2.06-2.06.94zm10 10l.94 2.06.94-2.06 2.06-.94-2.06-.94-.94-2.06-.94 2.06-2.06.94z\"/><path d=\"M17.41 7.96l-1.37-1.37c-.4-.4-.92-.59-1.43-.59-.52 0-1.04.2-1.43.59L10.3 9.45l-7.72 7.72c-.78.78-.78 2.05 0 2.83L4 21.41c.39.39.9.59 1.41.59.51 0 1.02-.2 1.41-.59l7.78-7.78 2.81-2.81c.8-.78.8-2.07 0-2.86zM5.41 20L4 18.59l7.72-7.72 1.47 1.35L5.41 20z\"/>\n",
              "  </svg>\n",
              "      </button>\n",
              "      \n",
              "  <style>\n",
              "    .colab-df-container {\n",
              "      display:flex;\n",
              "      flex-wrap:wrap;\n",
              "      gap: 12px;\n",
              "    }\n",
              "\n",
              "    .colab-df-convert {\n",
              "      background-color: #E8F0FE;\n",
              "      border: none;\n",
              "      border-radius: 50%;\n",
              "      cursor: pointer;\n",
              "      display: none;\n",
              "      fill: #1967D2;\n",
              "      height: 32px;\n",
              "      padding: 0 0 0 0;\n",
              "      width: 32px;\n",
              "    }\n",
              "\n",
              "    .colab-df-convert:hover {\n",
              "      background-color: #E2EBFA;\n",
              "      box-shadow: 0px 1px 2px rgba(60, 64, 67, 0.3), 0px 1px 3px 1px rgba(60, 64, 67, 0.15);\n",
              "      fill: #174EA6;\n",
              "    }\n",
              "\n",
              "    [theme=dark] .colab-df-convert {\n",
              "      background-color: #3B4455;\n",
              "      fill: #D2E3FC;\n",
              "    }\n",
              "\n",
              "    [theme=dark] .colab-df-convert:hover {\n",
              "      background-color: #434B5C;\n",
              "      box-shadow: 0px 1px 3px 1px rgba(0, 0, 0, 0.15);\n",
              "      filter: drop-shadow(0px 1px 2px rgba(0, 0, 0, 0.3));\n",
              "      fill: #FFFFFF;\n",
              "    }\n",
              "  </style>\n",
              "\n",
              "      <script>\n",
              "        const buttonEl =\n",
              "          document.querySelector('#df-5bfac5f3-3719-4ffc-b76c-5a5116671e45 button.colab-df-convert');\n",
              "        buttonEl.style.display =\n",
              "          google.colab.kernel.accessAllowed ? 'block' : 'none';\n",
              "\n",
              "        async function convertToInteractive(key) {\n",
              "          const element = document.querySelector('#df-5bfac5f3-3719-4ffc-b76c-5a5116671e45');\n",
              "          const dataTable =\n",
              "            await google.colab.kernel.invokeFunction('convertToInteractive',\n",
              "                                                     [key], {});\n",
              "          if (!dataTable) return;\n",
              "\n",
              "          const docLinkHtml = 'Like what you see? Visit the ' +\n",
              "            '<a target=\"_blank\" href=https://colab.research.google.com/notebooks/data_table.ipynb>data table notebook</a>'\n",
              "            + ' to learn more about interactive tables.';\n",
              "          element.innerHTML = '';\n",
              "          dataTable['output_type'] = 'display_data';\n",
              "          await google.colab.output.renderOutput(dataTable, element);\n",
              "          const docLink = document.createElement('div');\n",
              "          docLink.innerHTML = docLinkHtml;\n",
              "          element.appendChild(docLink);\n",
              "        }\n",
              "      </script>\n",
              "    </div>\n",
              "  </div>\n",
              "  "
            ]
          },
          "metadata": {},
          "execution_count": 247
        }
      ]
    },
    {
      "cell_type": "code",
      "source": [
        "df.isnull().sum()"
      ],
      "metadata": {
        "colab": {
          "base_uri": "https://localhost:8080/"
        },
        "id": "w3iczFYic6Bq",
        "outputId": "91d65f3f-c9de-4ff0-c283-c457e1404130"
      },
      "execution_count": null,
      "outputs": [
        {
          "output_type": "execute_result",
          "data": {
            "text/plain": [
              "OFFER_NAME            0\n",
              "CUSTOMER_TYPE         0\n",
              "CUSTOMER_GROUP        0\n",
              "CURRENT_STATUS        0\n",
              "ESCALATION_FLAG       0\n",
              "ESCALATED_GROUP       0\n",
              "OPEN_DATE             0\n",
              "OPEN_USER             0\n",
              "CLOSE_DATE            0\n",
              "CLOSE_GROUP           0\n",
              "CLOSE_USER            0\n",
              "AGE_BRACKET           0\n",
              "ACTUAL_COMPLAINT      0\n",
              "CALLBACK_MECHANISM    0\n",
              "OPEN_GR               0\n",
              "COMPLAINT_TYPE        0\n",
              "PRODUCT               0\n",
              "CASE                  0\n",
              "dtype: int64"
            ]
          },
          "metadata": {},
          "execution_count": 248
        }
      ]
    },
    {
      "cell_type": "markdown",
      "source": [
        "## **Modeling**"
      ],
      "metadata": {
        "id": "sGIIAmQBPK7i"
      }
    },
    {
      "cell_type": "code",
      "source": [
        "cat_columns = df.select_dtypes(['object']).columns\n",
        "from sklearn.preprocessing import LabelEncoder\n",
        "label_encoder = LabelEncoder()\n",
        "df[cat_columns] = df[cat_columns].apply(LabelEncoder().fit_transform)\n",
        "df.head(3)"
      ],
      "metadata": {
        "colab": {
          "base_uri": "https://localhost:8080/"
        },
        "id": "ZGJY12P9dIRO",
        "outputId": "70963bfd-0aee-47e4-ff75-5619ad372e16"
      },
      "execution_count": null,
      "outputs": [
        {
          "output_type": "execute_result",
          "data": {
            "text/plain": [
              "   OFFER_NAME  CUSTOMER_TYPE  CUSTOMER_GROUP  CURRENT_STATUS  ESCALATION_FLAG  \\\n",
              "0          24              0              16               1                1   \n",
              "1         140              0              73               1                1   \n",
              "2           9              0              70               1                0   \n",
              "\n",
              "   ESCALATED_GROUP  OPEN_DATE  OPEN_USER  CLOSE_DATE  CLOSE_GROUP  CLOSE_USER  \\\n",
              "0                0       5650         55        6284            0          55   \n",
              "1                0        965        250        1314            0         250   \n",
              "2                1        867        166         852            1         166   \n",
              "\n",
              "   AGE_BRACKET  ACTUAL_COMPLAINT  CALLBACK_MECHANISM  OPEN_GR  COMPLAINT_TYPE  \\\n",
              "0          2.0                 0                   1       10               1   \n",
              "1          1.0                 1                   0       18               0   \n",
              "2          1.0                 2                   0        2               1   \n",
              "\n",
              "   PRODUCT  CASE  \n",
              "0        0     4  \n",
              "1        1     0  \n",
              "2        0     4  "
            ],
            "text/html": [
              "\n",
              "  <div id=\"df-0272b00f-394d-4854-a6bc-b35e10434a67\">\n",
              "    <div class=\"colab-df-container\">\n",
              "      <div>\n",
              "<style scoped>\n",
              "    .dataframe tbody tr th:only-of-type {\n",
              "        vertical-align: middle;\n",
              "    }\n",
              "\n",
              "    .dataframe tbody tr th {\n",
              "        vertical-align: top;\n",
              "    }\n",
              "\n",
              "    .dataframe thead th {\n",
              "        text-align: right;\n",
              "    }\n",
              "</style>\n",
              "<table border=\"1\" class=\"dataframe\">\n",
              "  <thead>\n",
              "    <tr style=\"text-align: right;\">\n",
              "      <th></th>\n",
              "      <th>OFFER_NAME</th>\n",
              "      <th>CUSTOMER_TYPE</th>\n",
              "      <th>CUSTOMER_GROUP</th>\n",
              "      <th>CURRENT_STATUS</th>\n",
              "      <th>ESCALATION_FLAG</th>\n",
              "      <th>ESCALATED_GROUP</th>\n",
              "      <th>OPEN_DATE</th>\n",
              "      <th>OPEN_USER</th>\n",
              "      <th>CLOSE_DATE</th>\n",
              "      <th>CLOSE_GROUP</th>\n",
              "      <th>CLOSE_USER</th>\n",
              "      <th>AGE_BRACKET</th>\n",
              "      <th>ACTUAL_COMPLAINT</th>\n",
              "      <th>CALLBACK_MECHANISM</th>\n",
              "      <th>OPEN_GR</th>\n",
              "      <th>COMPLAINT_TYPE</th>\n",
              "      <th>PRODUCT</th>\n",
              "      <th>CASE</th>\n",
              "    </tr>\n",
              "  </thead>\n",
              "  <tbody>\n",
              "    <tr>\n",
              "      <th>0</th>\n",
              "      <td>24</td>\n",
              "      <td>0</td>\n",
              "      <td>16</td>\n",
              "      <td>1</td>\n",
              "      <td>1</td>\n",
              "      <td>0</td>\n",
              "      <td>5650</td>\n",
              "      <td>55</td>\n",
              "      <td>6284</td>\n",
              "      <td>0</td>\n",
              "      <td>55</td>\n",
              "      <td>2.0</td>\n",
              "      <td>0</td>\n",
              "      <td>1</td>\n",
              "      <td>10</td>\n",
              "      <td>1</td>\n",
              "      <td>0</td>\n",
              "      <td>4</td>\n",
              "    </tr>\n",
              "    <tr>\n",
              "      <th>1</th>\n",
              "      <td>140</td>\n",
              "      <td>0</td>\n",
              "      <td>73</td>\n",
              "      <td>1</td>\n",
              "      <td>1</td>\n",
              "      <td>0</td>\n",
              "      <td>965</td>\n",
              "      <td>250</td>\n",
              "      <td>1314</td>\n",
              "      <td>0</td>\n",
              "      <td>250</td>\n",
              "      <td>1.0</td>\n",
              "      <td>1</td>\n",
              "      <td>0</td>\n",
              "      <td>18</td>\n",
              "      <td>0</td>\n",
              "      <td>1</td>\n",
              "      <td>0</td>\n",
              "    </tr>\n",
              "    <tr>\n",
              "      <th>2</th>\n",
              "      <td>9</td>\n",
              "      <td>0</td>\n",
              "      <td>70</td>\n",
              "      <td>1</td>\n",
              "      <td>0</td>\n",
              "      <td>1</td>\n",
              "      <td>867</td>\n",
              "      <td>166</td>\n",
              "      <td>852</td>\n",
              "      <td>1</td>\n",
              "      <td>166</td>\n",
              "      <td>1.0</td>\n",
              "      <td>2</td>\n",
              "      <td>0</td>\n",
              "      <td>2</td>\n",
              "      <td>1</td>\n",
              "      <td>0</td>\n",
              "      <td>4</td>\n",
              "    </tr>\n",
              "  </tbody>\n",
              "</table>\n",
              "</div>\n",
              "      <button class=\"colab-df-convert\" onclick=\"convertToInteractive('df-0272b00f-394d-4854-a6bc-b35e10434a67')\"\n",
              "              title=\"Convert this dataframe to an interactive table.\"\n",
              "              style=\"display:none;\">\n",
              "        \n",
              "  <svg xmlns=\"http://www.w3.org/2000/svg\" height=\"24px\"viewBox=\"0 0 24 24\"\n",
              "       width=\"24px\">\n",
              "    <path d=\"M0 0h24v24H0V0z\" fill=\"none\"/>\n",
              "    <path d=\"M18.56 5.44l.94 2.06.94-2.06 2.06-.94-2.06-.94-.94-2.06-.94 2.06-2.06.94zm-11 1L8.5 8.5l.94-2.06 2.06-.94-2.06-.94L8.5 2.5l-.94 2.06-2.06.94zm10 10l.94 2.06.94-2.06 2.06-.94-2.06-.94-.94-2.06-.94 2.06-2.06.94z\"/><path d=\"M17.41 7.96l-1.37-1.37c-.4-.4-.92-.59-1.43-.59-.52 0-1.04.2-1.43.59L10.3 9.45l-7.72 7.72c-.78.78-.78 2.05 0 2.83L4 21.41c.39.39.9.59 1.41.59.51 0 1.02-.2 1.41-.59l7.78-7.78 2.81-2.81c.8-.78.8-2.07 0-2.86zM5.41 20L4 18.59l7.72-7.72 1.47 1.35L5.41 20z\"/>\n",
              "  </svg>\n",
              "      </button>\n",
              "      \n",
              "  <style>\n",
              "    .colab-df-container {\n",
              "      display:flex;\n",
              "      flex-wrap:wrap;\n",
              "      gap: 12px;\n",
              "    }\n",
              "\n",
              "    .colab-df-convert {\n",
              "      background-color: #E8F0FE;\n",
              "      border: none;\n",
              "      border-radius: 50%;\n",
              "      cursor: pointer;\n",
              "      display: none;\n",
              "      fill: #1967D2;\n",
              "      height: 32px;\n",
              "      padding: 0 0 0 0;\n",
              "      width: 32px;\n",
              "    }\n",
              "\n",
              "    .colab-df-convert:hover {\n",
              "      background-color: #E2EBFA;\n",
              "      box-shadow: 0px 1px 2px rgba(60, 64, 67, 0.3), 0px 1px 3px 1px rgba(60, 64, 67, 0.15);\n",
              "      fill: #174EA6;\n",
              "    }\n",
              "\n",
              "    [theme=dark] .colab-df-convert {\n",
              "      background-color: #3B4455;\n",
              "      fill: #D2E3FC;\n",
              "    }\n",
              "\n",
              "    [theme=dark] .colab-df-convert:hover {\n",
              "      background-color: #434B5C;\n",
              "      box-shadow: 0px 1px 3px 1px rgba(0, 0, 0, 0.15);\n",
              "      filter: drop-shadow(0px 1px 2px rgba(0, 0, 0, 0.3));\n",
              "      fill: #FFFFFF;\n",
              "    }\n",
              "  </style>\n",
              "\n",
              "      <script>\n",
              "        const buttonEl =\n",
              "          document.querySelector('#df-0272b00f-394d-4854-a6bc-b35e10434a67 button.colab-df-convert');\n",
              "        buttonEl.style.display =\n",
              "          google.colab.kernel.accessAllowed ? 'block' : 'none';\n",
              "\n",
              "        async function convertToInteractive(key) {\n",
              "          const element = document.querySelector('#df-0272b00f-394d-4854-a6bc-b35e10434a67');\n",
              "          const dataTable =\n",
              "            await google.colab.kernel.invokeFunction('convertToInteractive',\n",
              "                                                     [key], {});\n",
              "          if (!dataTable) return;\n",
              "\n",
              "          const docLinkHtml = 'Like what you see? Visit the ' +\n",
              "            '<a target=\"_blank\" href=https://colab.research.google.com/notebooks/data_table.ipynb>data table notebook</a>'\n",
              "            + ' to learn more about interactive tables.';\n",
              "          element.innerHTML = '';\n",
              "          dataTable['output_type'] = 'display_data';\n",
              "          await google.colab.output.renderOutput(dataTable, element);\n",
              "          const docLink = document.createElement('div');\n",
              "          docLink.innerHTML = docLinkHtml;\n",
              "          element.appendChild(docLink);\n",
              "        }\n",
              "      </script>\n",
              "    </div>\n",
              "  </div>\n",
              "  "
            ]
          },
          "metadata": {},
          "execution_count": 249
        }
      ]
    },
    {
      "cell_type": "code",
      "source": [
        "# storing the input values in the X variable\n",
        "X = df.drop([\"PRODUCT\"], axis=1)\n",
        "\n",
        "# storing all the ouputs in y variable\n",
        "y = df[\"PRODUCT\"]"
      ],
      "metadata": {
        "id": "NAAUbo_TdJWj"
      },
      "execution_count": null,
      "outputs": []
    },
    {
      "cell_type": "code",
      "source": [
        "acc_KNN=[]\n",
        "re_KNN=[]\n",
        "pre_KNN=[]\n",
        "f1_score_KNN=[]\n",
        "for i in range(30):\n",
        "  X_train, X_test, y_train, y_test = train_test_split(X, y, test_size=0.2,random_state=i)\n",
        "\n",
        "  classifer = KNeighborsClassifier(n_neighbors=3 )\n",
        "  classifer.fit(X_train,y_train)\n",
        "  y_pred= classifer.predict(X_test)\n",
        "\n",
        "  accuranc_KNN = accuracy_score(y_test,y_pred)\n",
        "  acc_KNN.append(accuranc_KNN)\n",
        "\n",
        "  recall_KNN = recall_score(y_test,y_pred)\n",
        "  re_KNN.append(recall_KNN)\n",
        "\n",
        "  Precision_KNN =  precision_score(y_test,y_pred)\n",
        "  pre_KNN.append(Precision_KNN)\n",
        "\n",
        "  f1_KNN = f1_score(y_test,y_pred)\n",
        "  f1_score_KNN.append(f1_KNN)\n",
        "\n",
        "\n",
        "Average_Accuracy_KNN = sum(acc_KNN) / float(len(acc_KNN))\n",
        "Average_Recall_KNN = sum(re_KNN) / float(len(re_KNN))\n",
        "Average_Precision_KNN = sum(pre_KNN) / float(len(pre_KNN))\n",
        "Average_F1_score_KNN = sum(f1_score_KNN) / float(len(f1_score_KNN))\n",
        "print('Average_Accuracy = ', Average_Accuracy_KNN)\n",
        "print('Average_Recall = ', Average_Recall_KNN)\n",
        "print('Average_Precision = ', Average_Precision_KNN)\n",
        "print('Average_F1_score = ', Average_F1_score_KNN)\n",
        "print('=========================================================')"
      ],
      "metadata": {
        "colab": {
          "base_uri": "https://localhost:8080/"
        },
        "id": "bWEKXQvPdRt_",
        "outputId": "c548b54a-0113-462f-900b-e0642ef94a26"
      },
      "execution_count": null,
      "outputs": [
        {
          "output_type": "stream",
          "name": "stdout",
          "text": [
            "Average_Accuracy =  0.8476854076565752\n",
            "Average_Recall =  0.6624060235942927\n",
            "Average_Precision =  0.7970455786916459\n",
            "Average_F1_score =  0.7233520089151884\n",
            "=========================================================\n"
          ]
        }
      ]
    },
    {
      "cell_type": "code",
      "source": [
        "acc_DTC=[]\n",
        "re_DTC=[]\n",
        "pre_DTC=[]\n",
        "f1_score_DTC=[]\n",
        "for i in range(30):\n",
        "  X_train, X_test, y_train, y_test = train_test_split(X, y, test_size=0.2,random_state=i)\n",
        "\n",
        "  classifer2 = DecisionTreeClassifier()\n",
        "  classifer2 = classifer2.fit(X_train,y_train)\n",
        "  y_pred = classifer2.predict(X_test)\n",
        "\n",
        "  accuranc_DTC = accuracy_score(y_test,y_pred)\n",
        "  acc_DTC.append(accuranc_DTC)\n",
        "\n",
        "  recall_DTC = recall_score(y_test,y_pred)\n",
        "  re_DTC.append(recall_DTC)\n",
        "  \n",
        "  Precision_DTC =  precision_score(y_test,y_pred) \n",
        "  pre_DTC.append(Precision_DTC) \n",
        "\n",
        "  f1_DTC = f1_score(y_test,y_pred)\n",
        "  f1_score_DTC.append(f1_DTC)\n",
        "\n",
        " \n",
        "Average_Accuracy_DTC = sum(acc_DTC) / float(len(acc_DTC))\n",
        "Average_Recall_DTC = sum(re_DTC) / float(len(re_DTC))\n",
        "Average_Precision_DTC = sum(pre_DTC) / float(len(pre_DTC))\n",
        "Average_F1_score_DTC = sum(f1_score_DTC) / float(len(f1_score_DTC))\n",
        "print('Average_Accuracy = ', Average_Accuracy_DTC)\n",
        "print('Average_Recall = ', Average_Recall_DTC)\n",
        "print('Average_Precision = ', Average_Precision_DTC)\n",
        "print('Average_F1_score = ', Average_F1_score_DTC)\n",
        "print('=========================================================')"
      ],
      "metadata": {
        "colab": {
          "base_uri": "https://localhost:8080/"
        },
        "id": "GgySTxXIdX2C",
        "outputId": "05eabe20-45e6-478f-8fb6-9fd7760512b5"
      },
      "execution_count": null,
      "outputs": [
        {
          "output_type": "stream",
          "name": "stdout",
          "text": [
            "Average_Accuracy =  0.9710876181323082\n",
            "Average_Recall =  0.9518364328314101\n",
            "Average_Precision =  0.9520967926797792\n",
            "Average_F1_score =  0.9519087589053596\n",
            "=========================================================\n"
          ]
        }
      ]
    },
    {
      "cell_type": "code",
      "source": [
        "acc_NB=[]\n",
        "re_NB=[]\n",
        "pre_NB=[]\n",
        "f1_score_NB=[]\n",
        "for i in range(30):\n",
        "  X_train, X_test, y_train, y_test = train_test_split(X, y, test_size=0.2,random_state=i)\n",
        "  \n",
        "  classifer3 = GaussianNB()\n",
        "  classifer3 = classifer3.fit(X_train,y_train)\n",
        "  y_pred = classifer3.predict(X_test)\n",
        "  \n",
        "  accuranc_NB = accuracy_score(y_test,y_pred)\n",
        "  acc_NB.append(accuranc_NB)\n",
        "\n",
        "  recall_NB = recall_score(y_test,y_pred)\n",
        "  re_NB.append(recall_NB)\n",
        "\n",
        "  Precision_NB =  precision_score(y_test,y_pred)\n",
        "  pre_NB.append(Precision_NB)\n",
        "\n",
        "  f1_NB = f1_score(y_test,y_pred)\n",
        "  f1_score_NB.append(f1_NB)\n",
        "\n",
        "Average_Accuracy_NB = sum(acc_NB) / float(len(acc_NB))\n",
        "Average_Recall_NB = sum(re_NB) / float(len(re_NB))\n",
        "Average_Precision_NB = sum(pre_NB) / float(len(pre_NB))\n",
        "Average_F1_score_NB = sum(f1_score_NB) / float(len(f1_score_NB))\n",
        "print('Average_Accuracy = ', Average_Accuracy_NB)\n",
        "print('Average_Recall = ', Average_Recall_NB)\n",
        "print('Average_Precision = ', Average_Precision_NB)\n",
        "print('Average_F1_score = ', Average_F1_score_NB)\n",
        "print('=========================================================')"
      ],
      "metadata": {
        "colab": {
          "base_uri": "https://localhost:8080/"
        },
        "id": "1I9EUCS6dd_P",
        "outputId": "2dce192d-4761-42dc-ec20-a7fe24f17fd4"
      },
      "execution_count": null,
      "outputs": [
        {
          "output_type": "stream",
          "name": "stdout",
          "text": [
            "Average_Accuracy =  0.8323722569277592\n",
            "Average_Recall =  0.8001863721734102\n",
            "Average_Precision =  0.6911597540870886\n",
            "Average_F1_score =  0.7415406773971055\n",
            "=========================================================\n"
          ]
        }
      ]
    },
    {
      "cell_type": "markdown",
      "source": [
        "## **Visualization**"
      ],
      "metadata": {
        "id": "hS39ND__456Z"
      }
    },
    {
      "cell_type": "code",
      "source": [
        "my_dict = {'DTC': acc_DTC}\n",
        "\n",
        "fig, ax = plt.subplots()\n",
        "\n",
        "ax.boxplot(my_dict.values())\n",
        "\n",
        "ax.set_xticklabels(my_dict.keys())\n",
        "\n",
        "plt.show()"
      ],
      "metadata": {
        "colab": {
          "base_uri": "https://localhost:8080/",
          "height": 267
        },
        "id": "5cvskq0Bdl9j",
        "outputId": "b1047258-89d7-45a8-c737-4582f7078ed1"
      },
      "execution_count": null,
      "outputs": [
        {
          "output_type": "display_data",
          "data": {
            "text/plain": [
              "<Figure size 432x288 with 1 Axes>"
            ],
            "image/png": "[encoded data removed]"
          },
          "metadata": {
            "needs_background": "light"
          }
        }
      ]
    },
    {
      "cell_type": "code",
      "source": [
        "my_dict = {'KNN': acc_KNN, 'NB': acc_NB}\n",
        "\n",
        "fig, ax = plt.subplots()\n",
        "\n",
        "ax.boxplot(my_dict.values())\n",
        "\n",
        "ax.set_xticklabels(my_dict.keys())\n",
        "\n",
        "plt.show()"
      ],
      "metadata": {
        "colab": {
          "base_uri": "https://localhost:8080/",
          "height": 265
        },
        "id": "o6EhEnTsuz86",
        "outputId": "a377eb30-b1b7-4976-f8de-1d4afc56868f"
      },
      "execution_count": null,
      "outputs": [
        {
          "output_type": "display_data",
          "data": {
            "text/plain": [
              "<Figure size 432x288 with 1 Axes>"
            ],
            "image/png": "[encoded data removed]"
          },
          "metadata": {
            "needs_background": "light"
          }
        }
      ]
    },
    {
      "cell_type": "code",
      "source": [
        "machine_learning_measure = ['Precision','Recall','F1']\n",
        "\n",
        "machine_learning_model_KNN=[Average_Precision_KNN,Average_Recall_KNN,Average_F1_score_KNN]\n",
        "machine_learning_model_DTC=[Average_Precision_DTC,Average_Recall_DTC,Average_F1_score_DTC]\n",
        "machine_learning_model_NB=[Average_Precision_NB,Average_Recall_NB,Average_F1_score_NB]\n",
        "\n",
        "X_axis = np.arange(len(machine_learning_measure )) \n",
        "\n",
        "plt.bar(X_axis + 0.1, machine_learning_model_KNN, color ='green',width = 0.25,edgecolor = 'black',label = 'KNN')\n",
        "plt.bar(X_axis + 0.25, machine_learning_model_DTC, color ='blue',width = 0.25,edgecolor = 'black',label = 'DTC')\n",
        "plt.bar(X_axis + 0.50, machine_learning_model_NB, color ='yellow',width = 0.25,edgecolor = 'black',label = 'NB')\n",
        "plt.xticks(X_axis+0.25, machine_learning_measure)\n",
        "\n",
        "plt.legend(bbox_to_anchor=(1, 1))\n",
        "plt.xlabel(\"machine_learning_measure\")\n",
        "plt.ylabel(\"Percentage\")\n",
        "plt.title(\"Summary of Results\")\n",
        "plt.show()"
      ],
      "metadata": {
        "colab": {
          "base_uri": "https://localhost:8080/",
          "height": 296
        },
        "id": "84oFMLmVdm-G",
        "outputId": "477b8628-82b6-4e82-807d-0216e3db2976"
      },
      "execution_count": null,
      "outputs": [
        {
          "output_type": "display_data",
          "data": {
            "text/plain": [
              "<Figure size 432x288 with 1 Axes>"
            ],
            "image/png": "[encoded data removed]"
          },
          "metadata": {
            "needs_background": "light"
          }
        }
      ]
    },
    {
      "cell_type": "code",
      "source": [
        "ML_measure=['Accuracy','Precision','Recall','F measure']\n",
        "\n",
        "ML_model_KNN=[Average_Accuracy_KNN,Average_Precision_KNN,Average_Recall_KNN,Average_F1_score_KNN]\n",
        "ML_model_DTC=[Average_Accuracy_DTC,Average_Precision_DTC,Average_Recall_DTC,Average_F1_score_DTC]\n",
        "ML_model_NB=[Average_Accuracy_NB,Average_Precision_NB,Average_Recall_NB,Average_F1_score_NB]\n",
        "\n",
        "angles=np.linspace(0,2*np.pi,len(ML_measure), endpoint=False)\n",
        "\n",
        "angles=np.concatenate((angles,[angles[0]]))\n",
        "\n",
        "ML_measure.append(machine_learning_measure[0])\n",
        "ML_model_KNN.append(ML_model_KNN[0])\n",
        "ML_model_DTC.append(ML_model_DTC[0])\n",
        "ML_model_NB.append(ML_model_NB[0])\n",
        "\n",
        "ML_measure.append(ML_measure[0])\n",
        "\n",
        "\n",
        "\n",
        "plt.figure(figsize=(6,6))\n",
        "ax = plt.subplot( polar=True)\n",
        "\n",
        "plt.plot(angles,ML_model_KNN, label='kNN')\n",
        "plt.fill(angles, ML_model_KNN, alpha=0.25, color='g')\n",
        "\n",
        "\n",
        "plt.plot(angles,ML_model_DTC, label='DTC')\n",
        "plt.fill(angles, ML_model_DTC, alpha=0.25, color='orange')\n",
        "\n",
        "\n",
        "plt.plot(angles,ML_model_NB, label='NB')\n",
        "plt.fill(angles, ML_model_NB, alpha=0.25, color='blue')\n",
        "\n",
        "ax.set_thetagrids(angles * 180/np.pi, ML_measure)\n",
        "XTICKS = ax.xaxis.get_major_ticks()\n",
        "for tick in XTICKS[-1::-1]:\n",
        "  tick.set_pad(28)\n",
        "plt.grid(True)\n",
        "plt.tight_layout()\n",
        "plt.legend()\n",
        "plt.show()"
      ],
      "metadata": {
        "colab": {
          "base_uri": "https://localhost:8080/",
          "height": 422
        },
        "id": "2EW5jcbddrbi",
        "outputId": "4bf31807-99d7-4a57-e51c-fc864d27f03c"
      },
      "execution_count": null,
      "outputs": [
        {
          "output_type": "display_data",
          "data": {
            "text/plain": [
              "<Figure size 432x432 with 1 Axes>"
            ],
            "image/png": "[encoded data removed]"
          },
          "metadata": {
            "needs_background": "light"
          }
        }
      ]
    }
  ]
}